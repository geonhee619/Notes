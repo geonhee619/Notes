{
 "cells": [
  {
   "cell_type": "code",
   "execution_count": 16,
   "metadata": {},
   "outputs": [],
   "source": [
    "import numpy as np\n",
    "import scipy.linalg as linalg\n",
    "\n",
    "from pulp import *"
   ]
  },
  {
   "cell_type": "markdown",
   "metadata": {},
   "source": [
    "# (1) Linear Optimization Problem (LP)"
   ]
  },
  {
   "cell_type": "markdown",
   "metadata": {},
   "source": [
    "## Fundamental Theorem"
   ]
  },
  {
   "cell_type": "markdown",
   "metadata": {},
   "source": [
    "### (A) Optimal Solution"
   ]
  },
  {
   "cell_type": "code",
   "execution_count": 2,
   "metadata": {},
   "outputs": [],
   "source": [
    "_ = LpProblem(name='optimal', sense=LpMaximize)\n",
    "\n",
    "x1 = LpVariable('x1', lowBound=0.0)\n",
    "x2 = LpVariable('x2', lowBound=0.0)\n",
    "\n",
    "_ += (2 * x1) + (3 * x2)\n",
    "_ += x1 + (3 * x2) <= 9, 'const. 1'\n",
    "_ += x1 + x2 <= 4, 'const. 2'\n",
    "_ += x1 + x2 <= 10, 'const. 3'"
   ]
  },
  {
   "cell_type": "code",
   "execution_count": 3,
   "metadata": {},
   "outputs": [
    {
     "name": "stdout",
     "output_type": "stream",
     "text": [
      "optimal:\n",
      "MAXIMIZE\n",
      "2*x1 + 3*x2 + 0\n",
      "SUBJECT TO\n",
      "const._1: x1 + 3 x2 <= 9\n",
      "\n",
      "const._2: x1 + x2 <= 4\n",
      "\n",
      "const._3: x1 + x2 <= 10\n",
      "\n",
      "VARIABLES\n",
      "x1 Continuous\n",
      "x2 Continuous\n",
      "\n"
     ]
    }
   ],
   "source": [
    "_"
   ]
  },
  {
   "cell_type": "code",
   "execution_count": 4,
   "metadata": {},
   "outputs": [
    {
     "data": {
      "text/plain": [
       "1"
      ]
     },
     "execution_count": 4,
     "metadata": {},
     "output_type": "execute_result"
    }
   ],
   "source": [
    "_.solve()"
   ]
  },
  {
   "cell_type": "code",
   "execution_count": 5,
   "metadata": {},
   "outputs": [
    {
     "data": {
      "text/plain": [
       "('Optimal', 10.5)"
      ]
     },
     "execution_count": 5,
     "metadata": {},
     "output_type": "execute_result"
    }
   ],
   "source": [
    "LpStatus[_.status], value(_.objective)"
   ]
  },
  {
   "cell_type": "code",
   "execution_count": 6,
   "metadata": {},
   "outputs": [
    {
     "name": "stdout",
     "output_type": "stream",
     "text": [
      "x1 = 1.5\n",
      "x2 = 2.5\n"
     ]
    }
   ],
   "source": [
    "for x in _.variables():\n",
    "    print(f'{x.name} = {value(x)}')"
   ]
  },
  {
   "cell_type": "markdown",
   "metadata": {},
   "source": [
    "### (B) Infeasible Problem"
   ]
  },
  {
   "cell_type": "code",
   "execution_count": 7,
   "metadata": {},
   "outputs": [],
   "source": [
    "_ = LpProblem(name='infeasible', sense=LpMaximize)\n",
    "\n",
    "x1 = LpVariable('x1', lowBound=0.0)\n",
    "x2 = LpVariable('x2', lowBound=0.0)\n",
    "\n",
    "_ += x1 + x2\n",
    "_ += x1 - x2 <= -1, 'const. 1'\n",
    "_ += (-1 * x1) + x2 <= -1, 'const. 2'"
   ]
  },
  {
   "cell_type": "code",
   "execution_count": 8,
   "metadata": {},
   "outputs": [
    {
     "data": {
      "text/plain": [
       "-1"
      ]
     },
     "execution_count": 8,
     "metadata": {},
     "output_type": "execute_result"
    }
   ],
   "source": [
    "_.solve()"
   ]
  },
  {
   "cell_type": "code",
   "execution_count": 9,
   "metadata": {},
   "outputs": [
    {
     "data": {
      "text/plain": [
       "('Infeasible', 62500000000000.0)"
      ]
     },
     "execution_count": 9,
     "metadata": {},
     "output_type": "execute_result"
    }
   ],
   "source": [
    "LpStatus[_.status], value(_.objective)"
   ]
  },
  {
   "cell_type": "code",
   "execution_count": 10,
   "metadata": {},
   "outputs": [
    {
     "name": "stdout",
     "output_type": "stream",
     "text": [
      "x1 = 31250000000000.0\n",
      "x2 = 31250000000000.0\n"
     ]
    }
   ],
   "source": [
    "for x in _.variables():\n",
    "    print(f'{x.name} = {value(x)}')"
   ]
  },
  {
   "cell_type": "markdown",
   "metadata": {},
   "source": [
    "### (C) Unbounded Problem"
   ]
  },
  {
   "cell_type": "code",
   "execution_count": 11,
   "metadata": {},
   "outputs": [],
   "source": [
    "_ = LpProblem(name='unbounded', sense=LpMaximize)\n",
    "\n",
    "x1 = LpVariable('x1', lowBound=0.0)\n",
    "x2 = LpVariable('x2', lowBound=0.0)\n",
    "\n",
    "_ += x1 + x2\n",
    "_ += (-2 * x1) + x2 <= 2, 'const. 1'\n",
    "_ += x1 - (2 * x2) <= -2, 'const. 2'"
   ]
  },
  {
   "cell_type": "code",
   "execution_count": 12,
   "metadata": {},
   "outputs": [
    {
     "data": {
      "text/plain": [
       "-2"
      ]
     },
     "execution_count": 12,
     "metadata": {},
     "output_type": "execute_result"
    }
   ],
   "source": [
    "_.solve()"
   ]
  },
  {
   "cell_type": "code",
   "execution_count": 13,
   "metadata": {},
   "outputs": [
    {
     "data": {
      "text/plain": [
       "('Unbounded', 0.0)"
      ]
     },
     "execution_count": 13,
     "metadata": {},
     "output_type": "execute_result"
    }
   ],
   "source": [
    "LpStatus[_.status], value(_.objective)"
   ]
  },
  {
   "cell_type": "code",
   "execution_count": 14,
   "metadata": {},
   "outputs": [
    {
     "name": "stdout",
     "output_type": "stream",
     "text": [
      "x1 = 0.0\n",
      "x2 = 0.0\n"
     ]
    }
   ],
   "source": [
    "for x in _.variables():\n",
    "    print(f'{x.name} = {value(x)}')"
   ]
  },
  {
   "cell_type": "markdown",
   "metadata": {},
   "source": [
    "## Algorithms"
   ]
  },
  {
   "cell_type": "markdown",
   "metadata": {},
   "source": [
    "### (A) Simplex Method"
   ]
  },
  {
   "cell_type": "code",
   "execution_count": 17,
   "metadata": {},
   "outputs": [],
   "source": [
    "A = np.array([[2,2,-1],[2,-2,3],[0,2,-1]])\n",
    "c = np.array([4,3,5])\n",
    "b = np.array([6,8,4])"
   ]
  },
  {
   "cell_type": "code",
   "execution_count": 20,
   "metadata": {},
   "outputs": [],
   "source": [
    "import numpy as np\n",
    "import scipy.linalg as linalg\n",
    "MEPS = 1.0e-10\n",
    "\n",
    "def lp_RevisedSimplex(c,A,b):\n",
    "    np.seterr(divide='ignore')\n",
    "    (m,n) = A.shape # m は A の行数，n は A の列数\n",
    "    AI = np.hstack((A,np.identity(m)))\n",
    "    c0 = np.r_[c,np.zeros(m)]\n",
    "    basis = [n+i for i in range(m)]\n",
    "    nonbasis = [j for j in range(n)]\n",
    "\n",
    "    while True:\n",
    "        y = linalg.solve(AI[:,basis].T, c0[basis])\n",
    "        cc = c0[nonbasis]-np.dot(y,AI[:,nonbasis])\n",
    "\n",
    "        if np.all(cc <= MEPS): # 最適性判定\n",
    "            x = np.zeros(n+m)\n",
    "            x[basis] = linalg.solve(AI[:,basis], b)\n",
    "            print('Optimal')\n",
    "            print('Optimal value =',np.dot(c0[basis],x[basis]))\n",
    "            for i in range(m):\n",
    "                print('x',i, '=', x[i])\n",
    "            break\n",
    "        else:\n",
    "            s = np.argmax(cc)\n",
    "        d = linalg.solve(AI[:,basis], AI[:,nonbasis[s]])\n",
    "        if np.all(d <= MEPS): # 非有界性判定\n",
    "            print('Unbounded')\n",
    "            break\n",
    "        else:\n",
    "            bb = linalg.solve(AI[:,basis], b)\n",
    "            ratio = bb/d\n",
    "            ratio[ratio<-MEPS] = np.inf\n",
    "            r = np.argmin(ratio)\n",
    "            # 基底と非基底の入れ替え\n",
    "            nonbasis[s], basis[r] = basis[r], nonbasis[s]"
   ]
  },
  {
   "cell_type": "code",
   "execution_count": 21,
   "metadata": {},
   "outputs": [
    {
     "name": "stdout",
     "output_type": "stream",
     "text": [
      "Optimal\n",
      "Optimal value = 45.0\n",
      "x 0 = 0.0\n",
      "x 1 = 4.999999999999999\n",
      "x 2 = 6.0\n"
     ]
    }
   ],
   "source": [
    "lp_RevisedSimplex(c,A,b)"
   ]
  },
  {
   "cell_type": "markdown",
   "metadata": {},
   "source": [
    "### (B) Interior Point Method"
   ]
  },
  {
   "cell_type": "code",
   "execution_count": null,
   "metadata": {},
   "outputs": [],
   "source": []
  }
 ],
 "metadata": {
  "kernelspec": {
   "display_name": "Python 3",
   "language": "python",
   "name": "python3"
  },
  "language_info": {
   "codemirror_mode": {
    "name": "ipython",
    "version": 3
   },
   "file_extension": ".py",
   "mimetype": "text/x-python",
   "name": "python",
   "nbconvert_exporter": "python",
   "pygments_lexer": "ipython3",
   "version": "3.7.6"
  }
 },
 "nbformat": 4,
 "nbformat_minor": 4
}
