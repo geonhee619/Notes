{
 "cells": [
  {
   "cell_type": "code",
   "execution_count": 2,
   "metadata": {},
   "outputs": [],
   "source": [
    "import numpy as np\n",
    "import pandas as pd\n",
    "import math, gc\n",
    "\n",
    "import sympy as sym\n",
    "from IPython.display import display, Latex"
   ]
  },
  {
   "cell_type": "markdown",
   "metadata": {},
   "source": [
    "## Chapter 6 Mean-Variance Portfolio Theory"
   ]
  },
  {
   "cell_type": "markdown",
   "metadata": {},
   "source": [
    "### 6.1 Asset Return"
   ]
  },
  {
   "cell_type": "raw",
   "metadata": {},
   "source": [
    "R = X_1 / X_2         : total return\n",
    "r = (X_1 - X_0) / X_0 : rate of return"
   ]
  },
  {
   "cell_type": "raw",
   "metadata": {},
   "source": [
    "R = 1 + r"
   ]
  },
  {
   "cell_type": "raw",
   "metadata": {},
   "source": [
    "X_1 = (1 + r) * X_0"
   ]
  },
  {
   "cell_type": "markdown",
   "metadata": {},
   "source": [
    "Short Sales"
   ]
  },
  {
   "cell_type": "raw",
   "metadata": {},
   "source": [
    "R = X_1 / X_0"
   ]
  },
  {
   "cell_type": "raw",
   "metadata": {},
   "source": [
    "- X_1 = - X_0 * R = - X_0 * (1 + r)"
   ]
  },
  {
   "cell_type": "markdown",
   "metadata": {},
   "source": [
    "Portfolio Return: return of master asset or portfolio, thus the weighted average of asset returns"
   ]
  },
  {
   "cell_type": "markdown",
   "metadata": {},
   "source": [
    "### 6.2 Random Variables, 6.3 Random Returns"
   ]
  },
  {
   "cell_type": "markdown",
   "metadata": {},
   "source": [
    "Expected Value, Variance, Several Random Variables, Covariance, Variance of a Sum"
   ]
  },
  {
   "cell_type": "markdown",
   "metadata": {},
   "source": [
    "### 6.4 Portfolio Mean and Variance"
   ]
  },
  {
   "cell_type": "raw",
   "metadata": {},
   "source": [
    "n  : number of assets in portfolio\n",
    "w_i: weight of i-th asset in portfolio"
   ]
  },
  {
   "cell_type": "markdown",
   "metadata": {},
   "source": [
    "Mean Return of a Portfolio"
   ]
  },
  {
   "cell_type": "code",
   "execution_count": 60,
   "metadata": {
    "jupyter": {
     "source_hidden": true
    }
   },
   "outputs": [
    {
     "data": {
      "text/latex": [
       "$E[r] = \\sum_{i=1}^{n}w_{n}E[r_{n}]$"
      ],
      "text/plain": [
       "<IPython.core.display.Latex object>"
      ]
     },
     "metadata": {},
     "output_type": "display_data"
    }
   ],
   "source": [
    "_ = 'E[r] = \\sum_{i=1}^{n}w_{n}E[r_{n}]'\n",
    "display(Latex(f'${_}$'))"
   ]
  },
  {
   "cell_type": "markdown",
   "metadata": {},
   "source": [
    "Variance of Portfolio Return"
   ]
  },
  {
   "cell_type": "code",
   "execution_count": 49,
   "metadata": {
    "jupyter": {
     "source_hidden": true
    }
   },
   "outputs": [
    {
     "data": {
      "text/latex": [
       "$\\sigma ^{2}=\\sum_{i,j=1}^{n}w_{i}w_{j}\\sigma _{ij}$"
      ],
      "text/plain": [
       "<IPython.core.display.Latex object>"
      ]
     },
     "metadata": {},
     "output_type": "display_data"
    }
   ],
   "source": [
    "_ = '\\sigma ^{2}=\\sum_{i,j=1}^{n}w_{i}w_{j}\\sigma _{ij}'\n",
    "display(Latex(f'${_}$'))"
   ]
  },
  {
   "cell_type": "markdown",
   "metadata": {},
   "source": [
    "Diversification"
   ]
  },
  {
   "cell_type": "code",
   "execution_count": 51,
   "metadata": {
    "jupyter": {
     "source_hidden": true
    }
   },
   "outputs": [
    {
     "data": {
      "text/latex": [
       "$Var[r]=\\sigma ^{2}/n$"
      ],
      "text/plain": [
       "<IPython.core.display.Latex object>"
      ]
     },
     "metadata": {},
     "output_type": "display_data"
    }
   ],
   "source": [
    "_ = 'Var[r]=\\sigma ^{2}/n'\n",
    "display(Latex(f'${_}$'))"
   ]
  },
  {
   "cell_type": "markdown",
   "metadata": {},
   "source": [
    "Diagram of a Portfolio"
   ]
  },
  {
   "cell_type": "markdown",
   "metadata": {},
   "source": [
    "Modern Portfolio Theory: The curve of (r_bar - c) diagram, determined by the combination of assets 1 and 2 with non-negative weights, lies inside the triangle determined by the two underlying assets and the coordinates A:"
   ]
  },
  {
   "cell_type": "code",
   "execution_count": 59,
   "metadata": {
    "jupyter": {
     "source_hidden": true
    }
   },
   "outputs": [
    {
     "data": {
      "text/latex": [
       "$A = (\\overline{r}_{1}\\sigma _{2} + \\overline{r}_{2}\\sigma _{1}) / (\\sigma _{1}+\\sigma _{2})$"
      ],
      "text/plain": [
       "<IPython.core.display.Latex object>"
      ]
     },
     "metadata": {},
     "output_type": "display_data"
    }
   ],
   "source": [
    "_ = 'A = (\\overline{r}_{1}\\sigma _{2} + \\overline{r}_{2}\\sigma _{1}) / (\\sigma _{1}+\\sigma _{2})'\n",
    "display(Latex(f'${_}$'))"
   ]
  },
  {
   "cell_type": "markdown",
   "metadata": {},
   "source": [
    "### 6.5 The Feasible Set"
   ]
  },
  {
   "cell_type": "markdown",
   "metadata": {},
   "source": [
    "The Minimum-Variance Set and the Efficient Frontier"
   ]
  },
  {
   "cell_type": "markdown",
   "metadata": {},
   "source": [
    "The feasible set (region) of investment is obtained by considering all possible combinations of w_i that satisfies the following:"
   ]
  },
  {
   "cell_type": "code",
   "execution_count": 56,
   "metadata": {
    "jupyter": {
     "source_hidden": true
    }
   },
   "outputs": [
    {
     "data": {
      "text/latex": [
       "$\\sum_{i=1}^{n}w_{i}=1$"
      ],
      "text/plain": [
       "<IPython.core.display.Latex object>"
      ]
     },
     "metadata": {},
     "output_type": "display_data"
    }
   ],
   "source": [
    "_ = '\\sum_{i=1}^{n}w_{i}=1'\n",
    "display(Latex(f'${_}$'))"
   ]
  },
  {
   "cell_type": "markdown",
   "metadata": {},
   "source": [
    "Properties:\n",
    "\n",
    "(1) If the given three or more assets (that are not perfectly correlated) have different mean values, then the feasible set constitutes a region with a non-zero area in the two-dimensional space.\n",
    "\n",
    "(2) The left side boundary of the feasible region is convex."
   ]
  },
  {
   "cell_type": "markdown",
   "metadata": {},
   "source": [
    "Definition:\n",
    "\n",
    "Minimum Variance Set: left side boundary of the set\n",
    "\n",
    "Minimum Variance Point (MVP): a point in the minimum variance set where variance is minimized.\n",
    "\n",
    "Risk Averse: prefers the MVP, given the expected return Risk Preferring if otherwise.\n",
    "\n",
    "Nonsatiation: Greater expected return is preferred to less."
   ]
  },
  {
   "cell_type": "markdown",
   "metadata": {},
   "source": [
    "A rise-averse and nonsatiating investor should only be interested in the \"upper half\" of the minimum variance set: \"Efficient Frontier\""
   ]
  },
  {
   "cell_type": "markdown",
   "metadata": {},
   "source": [
    "### 6.6 The Markowitz Model"
   ]
  },
  {
   "cell_type": "markdown",
   "metadata": {},
   "source": [
    "The point on the efficient frontier is characterized by an optimization problem first formulated by Markovits. This solves for the portfolio weight(s) that minimize the variance, given the expected returns."
   ]
  },
  {
   "cell_type": "markdown",
   "metadata": {},
   "source": [
    "(1) Obtaining the MVP, allowing short sales (i.e. no assumption of non-negative weights):"
   ]
  },
  {
   "cell_type": "code",
   "execution_count": 58,
   "metadata": {
    "jupyter": {
     "source_hidden": true
    }
   },
   "outputs": [
    {
     "data": {
      "text/latex": [
       "$\\min \\sum_{i,j=1}^{n}w_{i}w_{j}\\sigma _{ij}$"
      ],
      "text/plain": [
       "<IPython.core.display.Latex object>"
      ]
     },
     "metadata": {},
     "output_type": "display_data"
    },
    {
     "data": {
      "text/latex": [
       "$s.t. \\sum_{i=1}^{n}w_{i}\\overline{r}_{i} = \\overline{r}$"
      ],
      "text/plain": [
       "<IPython.core.display.Latex object>"
      ]
     },
     "metadata": {},
     "output_type": "display_data"
    },
    {
     "data": {
      "text/latex": [
       "$\\sum_{i=1}^{n}w_{i} = 1$"
      ],
      "text/plain": [
       "<IPython.core.display.Latex object>"
      ]
     },
     "metadata": {},
     "output_type": "display_data"
    }
   ],
   "source": [
    "_obj = '\\min \\sum_{i,j=1}^{n}w_{i}w_{j}\\sigma _{ij}'\n",
    "_cst_1 = 's.t. \\sum_{i=1}^{n}w_{i}\\overline{r}_{i} = \\overline{r}'\n",
    "_cst_2 = '\\sum_{i=1}^{n}w_{i} = 1'\n",
    "display(Latex(f'${_obj}$'))\n",
    "display(Latex(f'${_cst_1}$'))\n",
    "display(Latex(f'${_cst_2}$'))"
   ]
  },
  {
   "cell_type": "markdown",
   "metadata": {},
   "source": [
    "Solution of the Markowitz Problem: constrainted optimization via Lagrangian"
   ]
  },
  {
   "cell_type": "code",
   "execution_count": 61,
   "metadata": {
    "jupyter": {
     "source_hidden": true
    }
   },
   "outputs": [
    {
     "data": {
      "text/latex": [
       "$L = (1/2)\\sum_{i,j}^{n}w_{i}w_{j}\\sigma _{ij}-\\lambda (\\sum_{i=1}^{n}w_{i}\\overline{r}_{i} - \\overline{r})-\\mu (\\sum_{i=1}^{n}w_{i} - 1)$"
      ],
      "text/plain": [
       "<IPython.core.display.Latex object>"
      ]
     },
     "metadata": {},
     "output_type": "display_data"
    }
   ],
   "source": [
    "_ = 'L = (1/2)\\sum_{i,j}^{n}w_{i}w_{j}\\sigma _{ij}-\\lambda (\\sum_{i=1}^{n}w_{i}\\overline{r}_{i} - \\overline{r})-\\mu (\\sum_{i=1}^{n}w_{i} - 1)'\n",
    "display(Latex(f'${_}$'))"
   ]
  },
  {
   "cell_type": "markdown",
   "metadata": {},
   "source": [
    "(2) Nonnegativity Constraints: to not allowing short sales, add a new constraint (a quadratic problem)"
   ]
  },
  {
   "cell_type": "code",
   "execution_count": 62,
   "metadata": {
    "jupyter": {
     "source_hidden": true
    }
   },
   "outputs": [
    {
     "data": {
      "text/latex": [
       "$w_{i}\\geq 0, i=1,2,...,n$"
      ],
      "text/plain": [
       "<IPython.core.display.Latex object>"
      ]
     },
     "metadata": {},
     "output_type": "display_data"
    }
   ],
   "source": [
    "_ = 'w_{i}\\geq 0, i=1,2,...,n'\n",
    "display(Latex(f'${_}$'))"
   ]
  },
  {
   "cell_type": "markdown",
   "metadata": {},
   "source": [
    "### 6.7 The Two-Fund Theorem"
   ]
  },
  {
   "cell_type": "markdown",
   "metadata": {},
   "source": [
    "All efficient portfolios can be generated, Based on the two efficient funds (portfolios). In other words, an investor who wants to invest in an efficient portfolio only needs to invest in a combination of these two funds."
   ]
  },
  {
   "cell_type": "markdown",
   "metadata": {},
   "source": [
    "### 6.8 Inclusion of a Risk-Free Asset"
   ]
  },
  {
   "cell_type": "markdown",
   "metadata": {},
   "source": [
    "By including risk-free assets in the portfolio, more feasible combinations would be generatable (by combining each of the assets in the feasible set with the risk-free asset), generating a half-line that starts at the \"risk-free point\" and extends infinitely through the risky assets. In other words, by including the risk-free asset, the feasible region becomes an infinitely extending triangle."
   ]
  },
  {
   "cell_type": "markdown",
   "metadata": {},
   "source": [
    "### 6.9 The One-Fund Theorem"
   ]
  },
  {
   "cell_type": "markdown",
   "metadata": {},
   "source": [
    "One-Fund Theorem: let fund F be composed of risky assets. Then, any efficient porfolio is generated when combining F with a risk-free asset."
   ]
  },
  {
   "cell_type": "code",
   "execution_count": null,
   "metadata": {},
   "outputs": [],
   "source": []
  }
 ],
 "metadata": {
  "kernelspec": {
   "display_name": "Python 3",
   "language": "python",
   "name": "python3"
  },
  "language_info": {
   "codemirror_mode": {
    "name": "ipython",
    "version": 3
   },
   "file_extension": ".py",
   "mimetype": "text/x-python",
   "name": "python",
   "nbconvert_exporter": "python",
   "pygments_lexer": "ipython3",
   "version": "3.7.6"
  }
 },
 "nbformat": 4,
 "nbformat_minor": 4
}
