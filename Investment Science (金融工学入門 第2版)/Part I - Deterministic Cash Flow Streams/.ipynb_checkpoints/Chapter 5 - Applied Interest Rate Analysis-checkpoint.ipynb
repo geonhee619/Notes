{
 "cells": [
  {
   "cell_type": "code",
   "execution_count": 1,
   "metadata": {},
   "outputs": [],
   "source": [
    "import numpy as np\n",
    "import pandas as pd\n",
    "import math, gc\n",
    "\n",
    "import sympy as sym\n",
    "from IPython.display import display, Latex"
   ]
  },
  {
   "cell_type": "markdown",
   "metadata": {},
   "source": [
    "## Chapter 5 Applied Interest Rate Analysis"
   ]
  },
  {
   "cell_type": "markdown",
   "metadata": {},
   "source": [
    "### 5.1 Capital Budgeting"
   ]
  },
  {
   "cell_type": "markdown",
   "metadata": {},
   "source": [
    "(1) Independent Projects: Zero-One Programming Problem"
   ]
  },
  {
   "cell_type": "raw",
   "metadata": {},
   "source": [
    "m: number of projects\n",
    "C: total available capital"
   ]
  },
  {
   "cell_type": "markdown",
   "metadata": {},
   "source": [
    "in the i-th project:"
   ]
  },
  {
   "cell_type": "raw",
   "metadata": {},
   "source": [
    "b_i: total benefit (e.g. NPV)\n",
    "c_i: initial cost\n",
    "x_i: zero-one variable (1 if selected, 0 else)"
   ]
  },
  {
   "cell_type": "code",
   "execution_count": 66,
   "metadata": {
    "jupyter": {
     "source_hidden": true
    }
   },
   "outputs": [
    {
     "data": {
      "text/latex": [
       "$\\max \\sum_{i=1}^{m}b_{i}x_{i}$"
      ],
      "text/plain": [
       "<IPython.core.display.Latex object>"
      ]
     },
     "metadata": {},
     "output_type": "display_data"
    },
    {
     "data": {
      "text/latex": [
       "$s.t. \\sum_{i=1}^{m}c_{i}x_{i}\\leq C$"
      ],
      "text/plain": [
       "<IPython.core.display.Latex object>"
      ]
     },
     "metadata": {},
     "output_type": "display_data"
    }
   ],
   "source": [
    "_obj = '\\max \\sum_{i=1}^{m}b_{i}x_{i}'\n",
    "_cst = 's.t. \\sum_{i=1}^{m}c_{i}x_{i}\\leq C'\n",
    "display(Latex(f'${_obj}$'))\n",
    "display(Latex(f'${_cst}$'))"
   ]
  },
  {
   "cell_type": "markdown",
   "metadata": {},
   "source": [
    "e.g. (5.1)"
   ]
  },
  {
   "cell_type": "code",
   "execution_count": 59,
   "metadata": {},
   "outputs": [],
   "source": [
    "projects = range(1,8)\n",
    "C_list = [100, 20, 150, 50, 50, 150, 150]\n",
    "B_list = [300, 50, 350, 110, 100, 250, 200]"
   ]
  },
  {
   "cell_type": "code",
   "execution_count": 60,
   "metadata": {},
   "outputs": [],
   "source": [
    "table = pd.DataFrame({'Project': projects, 'Cost ($1,000)': C_list, 'Benefit ($1,000)': B_list}).set_index('Project')"
   ]
  },
  {
   "cell_type": "code",
   "execution_count": 64,
   "metadata": {},
   "outputs": [
    {
     "data": {
      "text/html": [
       "<div>\n",
       "<style scoped>\n",
       "    .dataframe tbody tr th:only-of-type {\n",
       "        vertical-align: middle;\n",
       "    }\n",
       "\n",
       "    .dataframe tbody tr th {\n",
       "        vertical-align: top;\n",
       "    }\n",
       "\n",
       "    .dataframe thead th {\n",
       "        text-align: right;\n",
       "    }\n",
       "</style>\n",
       "<table border=\"1\" class=\"dataframe\">\n",
       "  <thead>\n",
       "    <tr style=\"text-align: right;\">\n",
       "      <th></th>\n",
       "      <th>Cost ($1,000)</th>\n",
       "      <th>Benefit ($1,000)</th>\n",
       "      <th>NPV</th>\n",
       "    </tr>\n",
       "    <tr>\n",
       "      <th>Project</th>\n",
       "      <th></th>\n",
       "      <th></th>\n",
       "      <th></th>\n",
       "    </tr>\n",
       "  </thead>\n",
       "  <tbody>\n",
       "    <tr>\n",
       "      <th>1</th>\n",
       "      <td>100</td>\n",
       "      <td>300</td>\n",
       "      <td>200</td>\n",
       "    </tr>\n",
       "    <tr>\n",
       "      <th>2</th>\n",
       "      <td>20</td>\n",
       "      <td>50</td>\n",
       "      <td>30</td>\n",
       "    </tr>\n",
       "    <tr>\n",
       "      <th>3</th>\n",
       "      <td>150</td>\n",
       "      <td>350</td>\n",
       "      <td>200</td>\n",
       "    </tr>\n",
       "    <tr>\n",
       "      <th>4</th>\n",
       "      <td>50</td>\n",
       "      <td>110</td>\n",
       "      <td>60</td>\n",
       "    </tr>\n",
       "    <tr>\n",
       "      <th>5</th>\n",
       "      <td>50</td>\n",
       "      <td>100</td>\n",
       "      <td>50</td>\n",
       "    </tr>\n",
       "    <tr>\n",
       "      <th>6</th>\n",
       "      <td>150</td>\n",
       "      <td>250</td>\n",
       "      <td>100</td>\n",
       "    </tr>\n",
       "    <tr>\n",
       "      <th>7</th>\n",
       "      <td>150</td>\n",
       "      <td>200</td>\n",
       "      <td>50</td>\n",
       "    </tr>\n",
       "  </tbody>\n",
       "</table>\n",
       "</div>"
      ],
      "text/plain": [
       "         Cost ($1,000)  Benefit ($1,000)  NPV\n",
       "Project                                      \n",
       "1                  100               300  200\n",
       "2                   20                50   30\n",
       "3                  150               350  200\n",
       "4                   50               110   60\n",
       "5                   50               100   50\n",
       "6                  150               250  100\n",
       "7                  150               200   50"
      ]
     },
     "execution_count": 64,
     "metadata": {},
     "output_type": "execute_result"
    }
   ],
   "source": [
    "table.assign(\n",
    "    NPV = table['Benefit ($1,000)'] - table['Cost ($1,000)'],\n",
    ")"
   ]
  },
  {
   "cell_type": "code",
   "execution_count": 70,
   "metadata": {
    "jupyter": {
     "source_hidden": true
    }
   },
   "outputs": [
    {
     "data": {
      "text/latex": [
       "$\\max 200x_{1}+30x_{2}+200x_{3}+60x_{4}+50x_{5}+100x_{6}+50x_{7}$"
      ],
      "text/plain": [
       "<IPython.core.display.Latex object>"
      ]
     },
     "metadata": {},
     "output_type": "display_data"
    },
    {
     "data": {
      "text/latex": [
       "$s.t. 100x_{1}+20x_{2}+150x_{3}+50x_{4}+50x_{5}+150x_{6}+150x_{7} \\leq 500$"
      ],
      "text/plain": [
       "<IPython.core.display.Latex object>"
      ]
     },
     "metadata": {},
     "output_type": "display_data"
    }
   ],
   "source": [
    "_obj = '\\max 200x_{1}+30x_{2}+200x_{3}+60x_{4}+50x_{5}+100x_{6}+50x_{7}'\n",
    "_cst = 's.t. 100x_{1}+20x_{2}+150x_{3}+50x_{4}+50x_{5}+150x_{6}+150x_{7} \\leq 500'\n",
    "display(Latex(f'${_obj}$'))\n",
    "display(Latex(f'${_cst}$'))"
   ]
  },
  {
   "cell_type": "markdown",
   "metadata": {},
   "source": [
    "(2) Interdependent Projects: Zero-One Programming Problem"
   ]
  },
  {
   "cell_type": "raw",
   "metadata": {},
   "source": [
    "m  : number of objectives\n",
    "n_i: number of possible projectss in the i-th objective\n",
    "(only 1 project is selected from each objectives)"
   ]
  },
  {
   "cell_type": "markdown",
   "metadata": {},
   "source": [
    "in the the j-th project, of the i-th objective:"
   ]
  },
  {
   "cell_type": "raw",
   "metadata": {},
   "source": [
    "x_ij: zero-one variable\n",
    "b_ij: total benefit\n",
    "c_ij: initial cost"
   ]
  },
  {
   "cell_type": "code",
   "execution_count": 72,
   "metadata": {
    "jupyter": {
     "source_hidden": true
    }
   },
   "outputs": [
    {
     "data": {
      "text/latex": [
       "$\\max \\sum_{i=1}^{m}\\sum_{j=1}^{n_{i}}b_{ij}x_{ij}$"
      ],
      "text/plain": [
       "<IPython.core.display.Latex object>"
      ]
     },
     "metadata": {},
     "output_type": "display_data"
    },
    {
     "data": {
      "text/latex": [
       "$s.t. \\sum_{i=1}^{m}\\sum_{j=1}^{n_{i}}c_{ij}x_{ij}\\leq C$"
      ],
      "text/plain": [
       "<IPython.core.display.Latex object>"
      ]
     },
     "metadata": {},
     "output_type": "display_data"
    },
    {
     "data": {
      "text/latex": [
       "$\\sum_{j=1}^{n_{i}}x_{ij}\\leq 1, (i=1,2,...,m)$"
      ],
      "text/plain": [
       "<IPython.core.display.Latex object>"
      ]
     },
     "metadata": {},
     "output_type": "display_data"
    }
   ],
   "source": [
    "_obj = '\\max \\sum_{i=1}^{m}\\sum_{j=1}^{n_{i}}b_{ij}x_{ij}'\n",
    "_cst_1 = 's.t. \\sum_{i=1}^{m}\\sum_{j=1}^{n_{i}}c_{ij}x_{ij}\\leq C'\n",
    "_cst_2 = '\\sum_{j=1}^{n_{i}}x_{ij}\\leq 1, (i=1,2,...,m)'\n",
    "display(Latex(f'${_obj}$'))\n",
    "display(Latex(f'${_cst_1}$'))\n",
    "display(Latex(f'${_cst_2}$'))"
   ]
  },
  {
   "cell_type": "markdown",
   "metadata": {},
   "source": [
    "The exclusivity of an individual project is represented by the second constraint. The constraint states that the sum of the variables x_ij for j must not exceed 1. And, since the variables are all 0 or 1, this means that for any i, there is only one x_ij that can be 1 at most. In other words, only one project at most will be selected for goal i."
   ]
  },
  {
   "cell_type": "markdown",
   "metadata": {},
   "source": [
    "### 5.2 Optimal Portfolios"
   ]
  },
  {
   "cell_type": "markdown",
   "metadata": {},
   "source": [
    "The Cash Matching Problem"
   ]
  },
  {
   "cell_type": "raw",
   "metadata": {},
   "source": [
    "\"1 period\": 6 months\n",
    "m         : number of bonds"
   ]
  },
  {
   "cell_type": "raw",
   "metadata": {},
   "source": [
    "y   = (y_1,  y_2,  ..., y_n)  : liability (starts from 1 period from now)\n",
    "c_j = (c_1j, c_2j, ..., c_nj) : cash flow of j-th bond"
   ]
  },
  {
   "cell_type": "raw",
   "metadata": {},
   "source": [
    "p_j: price of j-th bond\n",
    "x_j: inventory of j-th bond in portfolio"
   ]
  },
  {
   "cell_type": "code",
   "execution_count": 74,
   "metadata": {
    "jupyter": {
     "source_hidden": true
    }
   },
   "outputs": [
    {
     "data": {
      "text/latex": [
       "$\\min \\sum_{j=1}^{m}p_{j}x_{j}$"
      ],
      "text/plain": [
       "<IPython.core.display.Latex object>"
      ]
     },
     "metadata": {},
     "output_type": "display_data"
    },
    {
     "data": {
      "text/latex": [
       "$s.t. \\sum_{j=1}^{m}c_{ij}x_{j} \\geq y_{i}, (i=1,2,...,n)$"
      ],
      "text/plain": [
       "<IPython.core.display.Latex object>"
      ]
     },
     "metadata": {},
     "output_type": "display_data"
    },
    {
     "data": {
      "text/latex": [
       "$x_{j} \\geq 0, (j=1,2,...,m)$"
      ],
      "text/plain": [
       "<IPython.core.display.Latex object>"
      ]
     },
     "metadata": {},
     "output_type": "display_data"
    }
   ],
   "source": [
    "_obj = '\\min \\sum_{j=1}^{m}p_{j}x_{j}'\n",
    "_cst_1 = 's.t. \\sum_{j=1}^{m}c_{ij}x_{j} \\geq y_{i}, (i=1,2,...,n)'\n",
    "_cst_2 = 'x_{j} \\geq 0, (j=1,2,...,m)'\n",
    "display(Latex(f'${_obj}$'))\n",
    "display(Latex(f'${_cst_1}$'))\n",
    "display(Latex(f'${_cst_2}$'))"
   ]
  },
  {
   "cell_type": "markdown",
   "metadata": {},
   "source": [
    "The objective function to be minimized is the total cost of the portfolio, which is equal to the sum of the price of the bond multiplied by the amount purchased.\n",
    "\n",
    "The main constraint, which is the cash matching constraint, indicates that, the total amount of cash to be generated in the i-th period with m bonds must be greater than the i-th cash matching constraint. Then, the last constraint equation excludes the possibility of short selling."
   ]
  },
  {
   "cell_type": "markdown",
   "metadata": {},
   "source": [
    "### 5.3 Dynamic Cash Flow Processes"
   ]
  },
  {
   "cell_type": "markdown",
   "metadata": {},
   "source": [
    "(Portfolio of financial instruments must be systematically and appropriately modified over time. Such  selection is dealt with dynamic programming.)"
   ]
  },
  {
   "cell_type": "markdown",
   "metadata": {},
   "source": [
    "Representation of Dynamic Choice, Cash Flows in Graphs"
   ]
  },
  {
   "cell_type": "markdown",
   "metadata": {},
   "source": [
    "Dynamic Models:\n",
    "\n",
    "e,g, Graph (Binomial Tree, Binomial Lattice):\n",
    "\n",
    "assigning cash flows to different branches of the graph allows evaluation of management alternatives. The outcome would be defined as \"final reward\" (final sale price) or \"salvage value\"."
   ]
  },
  {
   "cell_type": "markdown",
   "metadata": {},
   "source": [
    "### 5.4 Optimal Management"
   ]
  },
  {
   "cell_type": "markdown",
   "metadata": {},
   "source": [
    "Each path through the tree determines a particular cash flow sequence, allowing one to determine the optimal management plan."
   ]
  },
  {
   "cell_type": "markdown",
   "metadata": {},
   "source": [
    "(1) Comparison of all possible paths via NPV: (curse of dimensionality)"
   ]
  },
  {
   "cell_type": "markdown",
   "metadata": {},
   "source": [
    "(2) Running Dynamic Programming"
   ]
  },
  {
   "cell_type": "raw",
   "metadata": {},
   "source": [
    "(k, i): i-th node at k-th period\n",
    "V_ki  : running value or V-value at (k, i)"
   ]
  },
  {
   "cell_type": "raw",
   "metadata": {},
   "source": [
    "d_k = 1 / (1 + r_k) : discount rate\n",
    "r_k = f_k_k+1       : short term interest"
   ]
  },
  {
   "cell_type": "markdown",
   "metadata": {},
   "source": [
    "Then, the running value at the final node would be defined as the final value of the specific investment process."
   ]
  },
  {
   "cell_type": "markdown",
   "metadata": {},
   "source": [
    "Then, dynamic programming deals with nodes at the (n-1)-th period, assuming that an investment decision is already made to reach that specific node (meaning that the cash flow (c_0, c_1, ..., c_n-2) is predetermined).\n",
    "Thus, the only remaining decision would be to find out which one of the arcs lead from that node (n-1, i) to the final node at the n-th period.\n",
    "And, since it is hypothetically assumed that past decisions are predetermined, the optimal arc would be the one that maximizes the running present value at the (n-1)-th period. In other words, observe:"
   ]
  },
  {
   "cell_type": "code",
   "execution_count": 76,
   "metadata": {},
   "outputs": [
    {
     "data": {
      "text/latex": [
       "$C_{n-1}^{a}+d_{n-1}V_{n,a}$"
      ],
      "text/plain": [
       "<IPython.core.display.Latex object>"
      ]
     },
     "metadata": {},
     "output_type": "display_data"
    }
   ],
   "source": [
    "_ = 'C_{n-1}^{a}+d_{n-1}V_{n,a}'\n",
    "display(Latex(f'${_}$'))"
   ]
  },
  {
   "cell_type": "markdown",
   "metadata": {},
   "source": [
    "where"
   ]
  },
  {
   "cell_type": "raw",
   "metadata": {},
   "source": [
    "a: the node to be reached at the n-th period"
   ]
  },
  {
   "cell_type": "markdown",
   "metadata": {},
   "source": [
    "This process would be repeated for all nodes, and the maximum would be set as V_(n-1, i), and can be evaluated as the best running present value that can be obtained at node (n-1, i). Then, the same process will be executed for the (n-2)-th period, and until the 0-th period."
   ]
  },
  {
   "cell_type": "markdown",
   "metadata": {},
   "source": [
    "Therefore the recursive process is specified as follows:"
   ]
  },
  {
   "cell_type": "code",
   "execution_count": 10,
   "metadata": {
    "jupyter": {
     "source_hidden": true
    }
   },
   "outputs": [
    {
     "data": {
      "text/latex": [
       "$V_{ki} = \\max_{a} ( c_{ki}^{a}+d_{k}V_{k+1,a} )$"
      ],
      "text/plain": [
       "<IPython.core.display.Latex object>"
      ]
     },
     "metadata": {},
     "output_type": "display_data"
    }
   ],
   "source": [
    "_ = 'V_{ki} = \\max_{a} ( c_{ki}^{a}+d_{k}V_{k+1,a} )'\n",
    "display(Latex(f'${_}$'))"
   ]
  },
  {
   "cell_type": "markdown",
   "metadata": {},
   "source": [
    "where"
   ]
  },
  {
   "cell_type": "raw",
   "metadata": {},
   "source": [
    "c_ki^a: generated cashflow when presuming from node (k, i) to (k+1, a)"
   ]
  },
  {
   "cell_type": "markdown",
   "metadata": {},
   "source": [
    "Variations of Graphs: Continuous Lattice"
   ]
  },
  {
   "cell_type": "markdown",
   "metadata": {},
   "source": [
    "### 5.5 The Harmony Theorem"
   ]
  },
  {
   "cell_type": "markdown",
   "metadata": {},
   "source": [
    "The harmony theorem justifies venture operations to maximize the present value of the cash flow stream being generated:\n",
    "\n",
    "(1) A current owner of the venture would want to operate its venture in a way that maximizes the present value of its cash flow stream.\n",
    "\n",
    "(2) Potential owners, who would pay the full value of the expected stake on the venture, wwould operate in the same way, to maximize the return on their investment."
   ]
  },
  {
   "cell_type": "markdown",
   "metadata": {},
   "source": [
    "### 5.6 Valuation of a Firm"
   ]
  },
  {
   "cell_type": "markdown",
   "metadata": {},
   "source": [
    "Dividend Discount Models"
   ]
  },
  {
   "cell_type": "markdown",
   "metadata": {},
   "source": [
    "(1) Constant-Growth Dividend Model: assumes that dividend grows at a constant ratio of g"
   ]
  },
  {
   "cell_type": "code",
   "execution_count": 16,
   "metadata": {
    "jupyter": {
     "source_hidden": true
    }
   },
   "outputs": [
    {
     "data": {
      "text/latex": [
       "$V_0 = D_{1}\\sum_{k=1}^{\\infty } {(1+g)^{k-1}} / {(1+r)^{k}}$"
      ],
      "text/plain": [
       "<IPython.core.display.Latex object>"
      ]
     },
     "metadata": {},
     "output_type": "display_data"
    }
   ],
   "source": [
    "_ = 'V_0 = D_{1}\\sum_{k=1}^{\\infty } {(1+g)^{k-1}} / {(1+r)^{k}}'\n",
    "display(Latex(f'${_}$'))"
   ]
  },
  {
   "cell_type": "markdown",
   "metadata": {},
   "source": [
    "When g < r:"
   ]
  },
  {
   "cell_type": "code",
   "execution_count": 24,
   "metadata": {},
   "outputs": [],
   "source": [
    "def gordonFormula(D_1, r, g):\n",
    "    \"\"\"\n",
    "    D_1: dividend, one period later\n",
    "    r: interest (or discount rate)\n",
    "    g: dividend growth rate\n",
    "    \"\"\"\n",
    "    V_0 = D_1 / (r - g)\n",
    "    return V_0"
   ]
  },
  {
   "cell_type": "code",
   "execution_count": 18,
   "metadata": {},
   "outputs": [],
   "source": [
    "def discountGrowthFormula(D_0, r, g):\n",
    "    \"\"\"\n",
    "    D_0: dividend now\n",
    "    r: interest (or discount rate)\n",
    "    g: dividend growth rate\n",
    "    \"\"\"\n",
    "    V_0 = ((1 + g) * D_0) / (r - g)\n",
    "    return V_0"
   ]
  },
  {
   "cell_type": "markdown",
   "metadata": {},
   "source": [
    "e.g. 5.6: value of firm XX, after $1,370,000 of divident payment, with predicted growth rate of 10% (and discount rate of 15%)"
   ]
  },
  {
   "cell_type": "code",
   "execution_count": 28,
   "metadata": {},
   "outputs": [
    {
     "data": {
      "text/plain": [
       "30140000.00000001"
      ]
     },
     "execution_count": 28,
     "metadata": {},
     "output_type": "execute_result"
    }
   ],
   "source": [
    "discountGrowthFormula(D_0=1_370_000, g=0.10, r=0.15) "
   ]
  },
  {
   "cell_type": "markdown",
   "metadata": {},
   "source": [
    "Free Cash Flow: free cash while maintanance of optimal activity and investment strategies. In its ideal form, this approach requires that the present value of free cash flow be maximized in all management decisions, especially those related to investments that generate revenue growth."
   ]
  }
 ],
 "metadata": {
  "kernelspec": {
   "display_name": "Python 3",
   "language": "python",
   "name": "python3"
  },
  "language_info": {
   "codemirror_mode": {
    "name": "ipython",
    "version": 3
   },
   "file_extension": ".py",
   "mimetype": "text/x-python",
   "name": "python",
   "nbconvert_exporter": "python",
   "pygments_lexer": "ipython3",
   "version": "3.7.6"
  }
 },
 "nbformat": 4,
 "nbformat_minor": 4
}
