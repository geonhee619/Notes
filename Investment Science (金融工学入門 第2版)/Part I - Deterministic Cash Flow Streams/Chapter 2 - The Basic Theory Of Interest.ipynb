{
 "cells": [
  {
   "cell_type": "code",
   "execution_count": 1,
   "metadata": {},
   "outputs": [],
   "source": [
    "import numpy as np\n",
    "import pandas as pd\n",
    "import math, gc\n",
    "\n",
    "import sympy as sym\n",
    "from IPython.display import display, Latex"
   ]
  },
  {
   "cell_type": "markdown",
   "metadata": {},
   "source": [
    "## Chapter 2 The Basic Theory Of Interest"
   ]
  },
  {
   "cell_type": "markdown",
   "metadata": {},
   "source": [
    "### 2.1 Principal and Interest"
   ]
  },
  {
   "cell_type": "markdown",
   "metadata": {},
   "source": [
    "1. Simple Interest"
   ]
  },
  {
   "cell_type": "code",
   "execution_count": 2,
   "metadata": {},
   "outputs": [],
   "source": [
    "def simpleInterest(r, t, A):\n",
    "    \"\"\"\n",
    "    r: simple interest\n",
    "    n: time in years\n",
    "    A: principal\n",
    "    V: amount\n",
    "    \"\"\"\n",
    "    V = (1 + (r * t)) * A\n",
    "    return V"
   ]
  },
  {
   "cell_type": "markdown",
   "metadata": {},
   "source": [
    "2. Compound Interest"
   ]
  },
  {
   "cell_type": "code",
   "execution_count": 3,
   "metadata": {},
   "outputs": [],
   "source": [
    "def compoundInterest(r, n, t, A):\n",
    "    \"\"\"\n",
    "    r: interest\n",
    "    t: time\n",
    "    n: number of compound per t\n",
    "    A: principal\n",
    "    V: amount\n",
    "    \"\"\"\n",
    "    V = A * ((1 + (r / n)) ** (n * t))\n",
    "    return V"
   ]
  },
  {
   "cell_type": "markdown",
   "metadata": {},
   "source": [
    "### 2.2 Present Value"
   ]
  },
  {
   "cell_type": "markdown",
   "metadata": {},
   "source": [
    "- Discount Factor"
   ]
  },
  {
   "cell_type": "code",
   "execution_count": 4,
   "metadata": {},
   "outputs": [],
   "source": [
    "def discountFactor(r, m, k):\n",
    "    \"\"\"\n",
    "    r: interest\n",
    "    m: number of compound per t\n",
    "    k: time\n",
    "    \"\"\"\n",
    "    d_k = 1 / ((1 + (r / m)) ** k)\n",
    "    return d_k"
   ]
  },
  {
   "cell_type": "markdown",
   "metadata": {},
   "source": [
    "- Present Value"
   ]
  },
  {
   "cell_type": "code",
   "execution_count": 5,
   "metadata": {},
   "outputs": [],
   "source": [
    "def presentValue(d_k, A):\n",
    "    \"\"\"\n",
    "    d_k: discount factor of k perios ahead\n",
    "    A: principal\n",
    "    \"\"\"\n",
    "    pv_k = d_k * A\n",
    "    return pv_k"
   ]
  },
  {
   "cell_type": "markdown",
   "metadata": {},
   "source": [
    "### 2.3 Present and Future Values of Streams"
   ]
  },
  {
   "cell_type": "markdown",
   "metadata": {},
   "source": [
    "- Future Value of Cash Flow"
   ]
  },
  {
   "cell_type": "code",
   "execution_count": 6,
   "metadata": {},
   "outputs": [],
   "source": [
    "def futureValue(cf_list, r):\n",
    "    \"\"\"\n",
    "    cf_list: cashflow in list\n",
    "    r: interest\n",
    "    \"\"\"\n",
    "    n = len(cf_list)\n",
    "    fv = 0\n",
    "    for i in range(n):\n",
    "        fv += cf_list[i] * ((1 + r) ** (n - i))\n",
    "    return fv"
   ]
  },
  {
   "cell_type": "markdown",
   "metadata": {},
   "source": [
    "- Present Value of Cash Flow"
   ]
  },
  {
   "cell_type": "code",
   "execution_count": 7,
   "metadata": {},
   "outputs": [],
   "source": [
    "def presentValue(cf_list, r):\n",
    "    \"\"\"\n",
    "    cf_list: cashflow in list\n",
    "    r: interest\n",
    "    \"\"\"\n",
    "    pv = 0\n",
    "    for n in range(len(cf_list)):\n",
    "        pv += cf_list[n] / ((1 + r) ** n)\n",
    "    return pv"
   ]
  },
  {
   "cell_type": "markdown",
   "metadata": {},
   "source": [
    "### 2.5 Evaluation Criteria"
   ]
  },
  {
   "cell_type": "markdown",
   "metadata": {},
   "source": [
    "- Net Present Value"
   ]
  },
  {
   "cell_type": "code",
   "execution_count": 8,
   "metadata": {},
   "outputs": [],
   "source": [
    "def netPresentValue(cf_list, r):\n",
    "    \"\"\"\n",
    "    cf_list: cashflow in list\n",
    "    r: interest\n",
    "    \"\"\"\n",
    "    npv = 0\n",
    "    for i, x in enumerate(cf_list):\n",
    "        npv += x / ((1 + r) ** i)\n",
    "    return npv"
   ]
  },
  {
   "cell_type": "markdown",
   "metadata": {},
   "source": [
    "1. e.g. (2.4): $x=(-1,2), r=0.1$"
   ]
  },
  {
   "cell_type": "code",
   "execution_count": 10,
   "metadata": {},
   "outputs": [
    {
     "data": {
      "text/plain": [
       "0.8181818181818181"
      ]
     },
     "execution_count": 10,
     "metadata": {},
     "output_type": "execute_result"
    }
   ],
   "source": [
    "netPresentValue(cf_list=[-1, 2], r=0.1)"
   ]
  },
  {
   "cell_type": "markdown",
   "metadata": {},
   "source": [
    "2. e.g. (2.4): $x=(-1,0,3), r=0.1$"
   ]
  },
  {
   "cell_type": "code",
   "execution_count": 12,
   "metadata": {},
   "outputs": [
    {
     "data": {
      "text/plain": [
       "1.4793388429752063"
      ]
     },
     "execution_count": 12,
     "metadata": {},
     "output_type": "execute_result"
    }
   ],
   "source": [
    "netPresentValue(cf_list=[-1, 0, 3], r=0.1)"
   ]
  },
  {
   "cell_type": "markdown",
   "metadata": {},
   "source": [
    "### 2.6 Applications and Extensions"
   ]
  },
  {
   "cell_type": "markdown",
   "metadata": {},
   "source": [
    "- Net Flows\n",
    "- Cycle Problems\n",
    "- Taxes\n",
    "- Inflation"
   ]
  }
 ],
 "metadata": {
  "kernelspec": {
   "display_name": "Python 3",
   "language": "python",
   "name": "python3"
  },
  "language_info": {
   "codemirror_mode": {
    "name": "ipython",
    "version": 3
   },
   "file_extension": ".py",
   "mimetype": "text/x-python",
   "name": "python",
   "nbconvert_exporter": "python",
   "pygments_lexer": "ipython3",
   "version": "3.7.6"
  }
 },
 "nbformat": 4,
 "nbformat_minor": 4
}
