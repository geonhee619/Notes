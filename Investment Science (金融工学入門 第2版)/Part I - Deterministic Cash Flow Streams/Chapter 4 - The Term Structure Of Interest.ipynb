{
 "cells": [
  {
   "cell_type": "code",
   "execution_count": 1,
   "metadata": {},
   "outputs": [],
   "source": [
    "import numpy as np\n",
    "import pandas as pd\n",
    "import math, gc\n",
    "\n",
    "import sympy as sym\n",
    "from IPython.display import display, Latex"
   ]
  },
  {
   "cell_type": "markdown",
   "metadata": {},
   "source": [
    "## Chapter 4 The Term Structure Of Interest"
   ]
  },
  {
   "cell_type": "markdown",
   "metadata": {},
   "source": [
    "### 4.1 The Yield Curve"
   ]
  },
  {
   "cell_type": "markdown",
   "metadata": {},
   "source": [
    "- Yield plotted against the maturity of a bond of similar nature."
   ]
  },
  {
   "cell_type": "markdown",
   "metadata": {},
   "source": [
    "### 4.2 The Term Structure"
   ]
  },
  {
   "cell_type": "markdown",
   "metadata": {},
   "source": [
    "- Spot Rate ($s_t$): Interest rate on money held from present $t = 0$ to $t$\n",
    "  - e.g. spot rates are seen in:\n",
    "    - Annual Compound Interest (a)\n",
    "    - Compound Interest of m periods per year (b)\n",
    "    - Continuous Compound (c)"
   ]
  },
  {
   "cell_type": "markdown",
   "metadata": {},
   "source": [
    "### 4.3 Forward Rates"
   ]
  },
  {
   "cell_type": "markdown",
   "metadata": {},
   "source": [
    "- Forward Rate: future yield of bond given two future time periods"
   ]
  },
  {
   "cell_type": "code",
   "execution_count": 25,
   "metadata": {},
   "outputs": [],
   "source": [
    "def impliedForwardRate_a(t_1, s_1, t_2, s_2):\n",
    "    \"\"\"\n",
    "    t_1: starting period\n",
    "    s_1: spot rate at period t_1\n",
    "    t_2: end period\n",
    "    s_2: spot rate at period t_2\n",
    "    f_12: implied forward rate (under annual compound)\n",
    "    assert t_1 < t_2\n",
    "    \"\"\"\n",
    "    f_12 = ((((1 + s_2) ** t_2) / (1 + s_1 ** t_1)) ** (1 / (t_2 - t_1))) - 1\n",
    "    return f_12"
   ]
  },
  {
   "cell_type": "code",
   "execution_count": 26,
   "metadata": {},
   "outputs": [],
   "source": [
    "def impliedForwardRate_b(t_1, s_1, t_2, s_2):\n",
    "    \"\"\"\n",
    "    t_1: starting period\n",
    "    s_1: spot rate at period t_1\n",
    "    t_2: end period\n",
    "    s_2: spot rate at period t_2\n",
    "    f_12: implied forward rate (under compound of m periods per year)\n",
    "    assert t_1 < t_2\n",
    "    \"\"\"\n",
    "    f_12 = (m * ((((1 + (s_2 / m)) ** t_2) / ((1 + (s_1 / m)) ** t_1)) ** (1 / (t_2 - t_1)))) - m\n",
    "    return f_12"
   ]
  },
  {
   "cell_type": "code",
   "execution_count": 27,
   "metadata": {},
   "outputs": [],
   "source": [
    "def impliedForwardRate_c(t_1, s_1, t_2, s_2):\n",
    "    \"\"\"\n",
    "    t_1: starting period\n",
    "    s_1: spot rate at period t_1\n",
    "    t_2: end period\n",
    "    s_2: spot rate at period t_2\n",
    "    f_12: implied forward rate (under continuous compound)\n",
    "    assert t_1 < t_2\n",
    "    \"\"\"\n",
    "    f_12 = ((s_2 * t_2) - (s_1 * t_1)) / (t_2 - t_1)\n",
    "    return f_12"
   ]
  },
  {
   "cell_type": "markdown",
   "metadata": {},
   "source": [
    "### 4.4 Explanations for Term Structure"
   ]
  },
  {
   "cell_type": "markdown",
   "metadata": {},
   "source": [
    "1. Expectations Theory\n",
    "2. Liquidity Preference\n",
    "3. Market Segmentation"
   ]
  },
  {
   "cell_type": "markdown",
   "metadata": {},
   "source": [
    "### 4.5 Expectations Dynamics"
   ]
  },
  {
   "cell_type": "markdown",
   "metadata": {},
   "source": [
    "- Spot Rate Forecasts (via \"Expectations Dynamics\"):\n",
    "  - Assuming:\n",
    "    - Current Spot-Rate-Curve: $(s_1, s_2, ..., s_n)$\n",
    "    - Spot-Rate-Curve of the following year: $(s'_1, s'_2, ..., s'_n)$\n",
    "  - The current forward rate can be thought of as expectations of what interest rates will be the following year. This, thus, allows measuremnt of interest rate from next year until $(t_2 - 1)$ years ahead.\n",
    "  - i.e. $f_{1,t_2}$ becomes $s'_{t_2 -1}$."
   ]
  },
  {
   "cell_type": "code",
   "execution_count": 28,
   "metadata": {},
   "outputs": [],
   "source": [
    "def spotRateForecast(s_1, t_2, s_2):\n",
    "    \"\"\"\n",
    "    s_1: spot rate at period t_1\n",
    "    t_2: end period\n",
    "    s_2: spot rate at period t_2\n",
    "    \"\"\"\n",
    "    f_1_t2 = impliedForwardRate_a(t_1=1, s_1=s_1, t_2=t_2, s_2=s_2)\n",
    "    s_prime_t2_minus_1 = f_1_t2\n",
    "    return s_prime_t2_minus_1"
   ]
  },
  {
   "cell_type": "markdown",
   "metadata": {},
   "source": [
    "- e.g. (4.5): \"simple spot rate forecast given the spot rate curve:\"\n",
    "  - $(6.00, 6.45, 6.8, 7.10, 7.36, 7.56, 7.77)$"
   ]
  },
  {
   "cell_type": "code",
   "execution_count": 29,
   "metadata": {},
   "outputs": [],
   "source": [
    "table = pd.DataFrame({'current': [6.00, 6.45, 6.8, 7.10, 7.36, 7.56, 7.77]})\n",
    "table.index += 1\n",
    "table = table.transpose()"
   ]
  },
  {
   "cell_type": "code",
   "execution_count": 30,
   "metadata": {},
   "outputs": [
    {
     "data": {
      "text/html": [
       "<div>\n",
       "<style scoped>\n",
       "    .dataframe tbody tr th:only-of-type {\n",
       "        vertical-align: middle;\n",
       "    }\n",
       "\n",
       "    .dataframe tbody tr th {\n",
       "        vertical-align: top;\n",
       "    }\n",
       "\n",
       "    .dataframe thead th {\n",
       "        text-align: right;\n",
       "    }\n",
       "</style>\n",
       "<table border=\"1\" class=\"dataframe\">\n",
       "  <thead>\n",
       "    <tr style=\"text-align: right;\">\n",
       "      <th></th>\n",
       "      <th>s_1</th>\n",
       "      <th>s_2</th>\n",
       "      <th>s_3</th>\n",
       "      <th>s_4</th>\n",
       "      <th>s_5</th>\n",
       "      <th>s_6</th>\n",
       "      <th>s_7</th>\n",
       "    </tr>\n",
       "  </thead>\n",
       "  <tbody>\n",
       "    <tr>\n",
       "      <th>current</th>\n",
       "      <td>6.0</td>\n",
       "      <td>6.45</td>\n",
       "      <td>6.8</td>\n",
       "      <td>7.1</td>\n",
       "      <td>7.36</td>\n",
       "      <td>7.56</td>\n",
       "      <td>7.77</td>\n",
       "    </tr>\n",
       "  </tbody>\n",
       "</table>\n",
       "</div>"
      ],
      "text/plain": [
       "         s_1   s_2  s_3  s_4   s_5   s_6   s_7\n",
       "current  6.0  6.45  6.8  7.1  7.36  7.56  7.77"
      ]
     },
     "execution_count": 30,
     "metadata": {},
     "output_type": "execute_result"
    }
   ],
   "source": [
    "table.add_prefix('s_')"
   ]
  },
  {
   "cell_type": "code",
   "execution_count": 31,
   "metadata": {},
   "outputs": [
    {
     "data": {
      "text/html": [
       "<div>\n",
       "<style scoped>\n",
       "    .dataframe tbody tr th:only-of-type {\n",
       "        vertical-align: middle;\n",
       "    }\n",
       "\n",
       "    .dataframe tbody tr th {\n",
       "        vertical-align: top;\n",
       "    }\n",
       "\n",
       "    .dataframe thead th {\n",
       "        text-align: right;\n",
       "    }\n",
       "</style>\n",
       "<table border=\"1\" class=\"dataframe\">\n",
       "  <thead>\n",
       "    <tr style=\"text-align: right;\">\n",
       "      <th></th>\n",
       "      <th>s_1</th>\n",
       "      <th>s_2</th>\n",
       "      <th>s_3</th>\n",
       "      <th>s_4</th>\n",
       "      <th>s_5</th>\n",
       "      <th>s_6</th>\n",
       "      <th>s_7</th>\n",
       "    </tr>\n",
       "  </thead>\n",
       "  <tbody>\n",
       "    <tr>\n",
       "      <th>current</th>\n",
       "      <td>6.0</td>\n",
       "      <td>6.45</td>\n",
       "      <td>6.8</td>\n",
       "      <td>7.1</td>\n",
       "      <td>7.36</td>\n",
       "      <td>7.56</td>\n",
       "      <td>7.77</td>\n",
       "    </tr>\n",
       "    <tr>\n",
       "      <th>forecast</th>\n",
       "      <td>6.9</td>\n",
       "      <td>7.20</td>\n",
       "      <td>7.5</td>\n",
       "      <td>7.7</td>\n",
       "      <td>7.90</td>\n",
       "      <td>8.10</td>\n",
       "      <td>NaN</td>\n",
       "    </tr>\n",
       "  </tbody>\n",
       "</table>\n",
       "</div>"
      ],
      "text/plain": [
       "          s_1   s_2  s_3  s_4   s_5   s_6   s_7\n",
       "current   6.0  6.45  6.8  7.1  7.36  7.56  7.77\n",
       "forecast  6.9  7.20  7.5  7.7  7.90  8.10   NaN"
      ]
     },
     "execution_count": 31,
     "metadata": {},
     "output_type": "execute_result"
    }
   ],
   "source": [
    "table.transpose().assign(forecast=table.transpose().apply(lambda s_t2: np.round(spotRateForecast(s_1=6.00, t_2=s_t2.index, s_2=s_t2), 1)).shift(-1)).transpose().add_prefix('s_')"
   ]
  },
  {
   "cell_type": "markdown",
   "metadata": {},
   "source": [
    "- Discount Factors (between two future periods) in terms of Forward Rate"
   ]
  },
  {
   "cell_type": "code",
   "execution_count": 33,
   "metadata": {},
   "outputs": [],
   "source": [
    "def discountFactor_t1_t2(t_1, s_1, t_2, s_2):\n",
    "    \"\"\"\n",
    "    t_1: starting period\n",
    "    s_1: spot rate at period t_1\n",
    "    t_2: end period\n",
    "    s_2: spot rate at period t_2\n",
    "    d_t1_t2: discount factor between two future periods in terms of forward rate f_t1_t2\n",
    "    assert t_1 < t_2\n",
    "    \"\"\"\n",
    "    d_t1_t2 = (1 / (1 + impliedForwardRate_a(t_1=t_1, s_1=s_1, t_2=t_2, s_2=s_2))) ** (t_2 - t_1)\n",
    "    return d_t1_t2"
   ]
  },
  {
   "cell_type": "markdown",
   "metadata": {},
   "source": [
    "- Short Rates\n",
    "- Invariance Theorem:\n",
    "  - Assuming that interest varies under expectations dynamics:\n",
    "  - Under annual compound, the total amount of money invested in the interest rate market for $n$ years will increase by $(1 + s_n)^n$ (as long as all the money is invested), regardless of the investment and/or reinvestment strategies."
   ]
  },
  {
   "cell_type": "markdown",
   "metadata": {},
   "source": [
    "### 4.6 Running Present Value"
   ]
  },
  {
   "cell_type": "code",
   "execution_count": 34,
   "metadata": {},
   "outputs": [],
   "source": [
    "def runningPresentValue(cf_list, df_list):\n",
    "    \"\"\"\n",
    "    cf_list: cashflow in list\n",
    "    df_list: discount factor (computed from term structure in table 4.2)\n",
    "    pv_list: running present value\n",
    "    assert len(cf_list) == len(df_list)\n",
    "    \"\"\"\n",
    "    pv_list = []\n",
    "    for k in range(len(cf_list))[::-1]:\n",
    "        try:\n",
    "            pv_k = cf_list[k] + df_list[k] * cf_list[k+1]\n",
    "        except IndexError:\n",
    "            pv_k = cf_list[k]\n",
    "        pv_k = np.round(pv_k, 2)\n",
    "        pv_list.append(pv_k)\n",
    "    \n",
    "    return pv_list[::-1]"
   ]
  },
  {
   "cell_type": "markdown",
   "metadata": {},
   "source": [
    "- e.g. (4.7):\n",
    "  - Cash Flow: $(20, 25, 30, 35, 40, 30, 20, 10)$\n",
    "  - Discount Rates: $(0.943, 0.935, 0.93, 0.926, 0.923, 0.921, 0.917, )$"
   ]
  },
  {
   "cell_type": "code",
   "execution_count": 35,
   "metadata": {},
   "outputs": [],
   "source": [
    "cf_list = [20, 25, 30, 35, 40, 30, 20, 10]\n",
    "df_list = [0.943, 0.935, 0.93, 0.926, 0.923, 0.921, 0.917, np.nan]"
   ]
  },
  {
   "cell_type": "code",
   "execution_count": 36,
   "metadata": {},
   "outputs": [
    {
     "data": {
      "text/html": [
       "<div>\n",
       "<style scoped>\n",
       "    .dataframe tbody tr th:only-of-type {\n",
       "        vertical-align: middle;\n",
       "    }\n",
       "\n",
       "    .dataframe tbody tr th {\n",
       "        vertical-align: top;\n",
       "    }\n",
       "\n",
       "    .dataframe thead th {\n",
       "        text-align: right;\n",
       "    }\n",
       "</style>\n",
       "<table border=\"1\" class=\"dataframe\">\n",
       "  <thead>\n",
       "    <tr style=\"text-align: right;\">\n",
       "      <th></th>\n",
       "      <th>Year: 0</th>\n",
       "      <th>Year: 1</th>\n",
       "      <th>Year: 2</th>\n",
       "      <th>Year: 3</th>\n",
       "      <th>Year: 4</th>\n",
       "      <th>Year: 5</th>\n",
       "      <th>Year: 6</th>\n",
       "      <th>Year: 7</th>\n",
       "    </tr>\n",
       "  </thead>\n",
       "  <tbody>\n",
       "    <tr>\n",
       "      <th>Cash Flow</th>\n",
       "      <td>20.000</td>\n",
       "      <td>25.000</td>\n",
       "      <td>30.00</td>\n",
       "      <td>35.000</td>\n",
       "      <td>40.000</td>\n",
       "      <td>30.000</td>\n",
       "      <td>20.000</td>\n",
       "      <td>10.0</td>\n",
       "    </tr>\n",
       "    <tr>\n",
       "      <th>Discount Factors</th>\n",
       "      <td>0.943</td>\n",
       "      <td>0.935</td>\n",
       "      <td>0.93</td>\n",
       "      <td>0.926</td>\n",
       "      <td>0.923</td>\n",
       "      <td>0.921</td>\n",
       "      <td>0.917</td>\n",
       "      <td>NaN</td>\n",
       "    </tr>\n",
       "  </tbody>\n",
       "</table>\n",
       "</div>"
      ],
      "text/plain": [
       "                  Year: 0  Year: 1  Year: 2  Year: 3  Year: 4  Year: 5  \\\n",
       "Cash Flow          20.000   25.000    30.00   35.000   40.000   30.000   \n",
       "Discount Factors    0.943    0.935     0.93    0.926    0.923    0.921   \n",
       "\n",
       "                  Year: 6  Year: 7  \n",
       "Cash Flow          20.000     10.0  \n",
       "Discount Factors    0.917      NaN  "
      ]
     },
     "execution_count": 36,
     "metadata": {},
     "output_type": "execute_result"
    }
   ],
   "source": [
    "pd.DataFrame({'Cash Flow': cf_list, 'Discount Factors': df_list}).transpose().add_prefix('Year: ')"
   ]
  },
  {
   "cell_type": "code",
   "execution_count": 37,
   "metadata": {},
   "outputs": [
    {
     "data": {
      "text/plain": [
       "[43.58, 53.05, 62.55, 72.04, 67.69, 48.42, 29.17, 10]"
      ]
     },
     "execution_count": 37,
     "metadata": {},
     "output_type": "execute_result"
    }
   ],
   "source": [
    "runningPresentValue(cf_list, df_list)"
   ]
  },
  {
   "cell_type": "markdown",
   "metadata": {},
   "source": [
    "### 4.7 Floating-Rate Bonds"
   ]
  },
  {
   "cell_type": "markdown",
   "metadata": {},
   "source": [
    "- Floating-Rate Bonds have fixed face value and maturity, but varying (updating / resetting) coupon payment based on the latest short-term interest.\n",
    "- Thus, the exact value of future coupon payments is uncertain until the reset: seemingly difficult to assess the value of this bond."
   ]
  },
  {
   "cell_type": "markdown",
   "metadata": {},
   "source": [
    "- Theorem (4.1): The value of floating-rate bonds is equal to their par value at the time of repricing.\n",
    "  - Proof: Running Present Value."
   ]
  },
  {
   "cell_type": "markdown",
   "metadata": {},
   "source": [
    "### 4.8 Duration"
   ]
  },
  {
   "cell_type": "markdown",
   "metadata": {},
   "source": [
    "- Fisher-Weil Duration: duration as a weighted average of the present values at the time of cash flow.\n",
    "  - Assuming the following (is given):\n",
    "    - Cash Flow: $(x_{t_0}, x_{t_1}, x_{t_2}, ..., x_{t_n})$\n",
    "    - Spot-Rate-Curve $(s_t, t_0 <= t <= t_n)$\n",
    "    - Continuous Compound"
   ]
  },
  {
   "cell_type": "code",
   "execution_count": 38,
   "metadata": {},
   "outputs": [
    {
     "data": {
      "text/plain": [
       "2.718281828459045"
      ]
     },
     "execution_count": 38,
     "metadata": {},
     "output_type": "execute_result"
    }
   ],
   "source": [
    "math.e"
   ]
  },
  {
   "cell_type": "code",
   "execution_count": 39,
   "metadata": {},
   "outputs": [],
   "source": [
    "def fisherWeilDuration(cf_list, spot_rate_curve_list):\n",
    "    \"\"\"\n",
    "    cf_list: cashflow in list\n",
    "    spot_rate_curve_list: spot rates (corresponding to periods of cf_list) in list\n",
    "    D_FW: Fisher-Weil Duration\n",
    "    \"\"\"\n",
    "    PV = 0\n",
    "    n = len(cf_list)\n",
    "    for i in range(n):\n",
    "        PV += cf_list[i] * (math.e ** (-1 * spot_rate_curve_list[i] * i))\n",
    "    \n",
    "    D_FW = 0\n",
    "    for i in range(n):\n",
    "        D_FW += i * cf_list[i] * (math.e ** (-1 * spot_rate_curve_list[i] * i))\n",
    "    D_FW *= 1 / PV\n",
    "    \n",
    "    return D_FW"
   ]
  },
  {
   "cell_type": "markdown",
   "metadata": {},
   "source": [
    "- Quasi-Modified Duration: relative price sensitivity of a parallel shift of the spot rate curve (under discretely defined periods)"
   ]
  },
  {
   "cell_type": "code",
   "execution_count": 40,
   "metadata": {},
   "outputs": [],
   "source": [
    "def quasiModifiedDuration(m, cf_list, spot_rate_curve_list):\n",
    "    \"\"\"\n",
    "    cf_list: cashflow in list\n",
    "    spot_rate_curve_list: spot rates (corresponding to periods of cf_list) in list\n",
    "    D_Q: Quasi-modified Duration\n",
    "    \"\"\"\n",
    "    PV = 0\n",
    "    n = len(cf_list)\n",
    "    for i in range(n):\n",
    "        PV += cf_list[i] * (math.e ** (-1 * spot_rate_curve_list[i] * i))\n",
    "    \n",
    "    D_Q = 0\n",
    "    for k in range(n):\n",
    "        k += 1\n",
    "        D_Q += (k / m) * cf_list[k - 1] * ((1 + (spot_rate_curve_list[k - 1] / m)) ** (-1 * (k + 1)))\n",
    "    D_Q *= (1 / PV)\n",
    "    \n",
    "    return D_Q"
   ]
  }
 ],
 "metadata": {
  "kernelspec": {
   "display_name": "Python 3",
   "language": "python",
   "name": "python3"
  },
  "language_info": {
   "codemirror_mode": {
    "name": "ipython",
    "version": 3
   },
   "file_extension": ".py",
   "mimetype": "text/x-python",
   "name": "python",
   "nbconvert_exporter": "python",
   "pygments_lexer": "ipython3",
   "version": "3.7.6"
  }
 },
 "nbformat": 4,
 "nbformat_minor": 4
}
