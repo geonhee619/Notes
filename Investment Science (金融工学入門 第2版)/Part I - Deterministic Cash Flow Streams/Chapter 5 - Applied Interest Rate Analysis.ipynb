{
 "cells": [
  {
   "cell_type": "code",
   "execution_count": 2,
   "metadata": {},
   "outputs": [],
   "source": [
    "import numpy as np\n",
    "import pandas as pd\n",
    "import math, gc\n",
    "\n",
    "import sympy as sym\n",
    "from IPython.display import display, Latex"
   ]
  },
  {
   "cell_type": "markdown",
   "metadata": {},
   "source": [
    "## Chapter 5 Applied Interest Rate Analysis"
   ]
  },
  {
   "cell_type": "markdown",
   "metadata": {},
   "source": [
    "### 5.1 Capital Budgeting"
   ]
  },
  {
   "cell_type": "markdown",
   "metadata": {},
   "source": [
    "1. Independent Projects: Zero-One Programming Problem"
   ]
  },
  {
   "cell_type": "markdown",
   "metadata": {},
   "source": [
    "  - Given:\n",
    "    - $m$: number of projects\n",
    "    - $C$: total available capital\n",
    "  - In project $i$:\n",
    "    - $b_i$: total benefit\n",
    "      - (e.g. NPV)\n",
    "    - $c_i$: initial cost\n",
    "    - $x_i$: zero-one variable\n",
    "      - (1 if selected, 0 else)"
   ]
  },
  {
   "cell_type": "markdown",
   "metadata": {},
   "source": [
    "$\\max \\sum_{i=1}^{m}b_{i}x_{i}$"
   ]
  },
  {
   "cell_type": "markdown",
   "metadata": {},
   "source": [
    "$s.t. \\sum_{i=1}^{m}c_{i}x_{i}\\leq C$"
   ]
  },
  {
   "cell_type": "markdown",
   "metadata": {},
   "source": [
    "- e.g. (5.1):\n",
    "  - $m = 8$\n",
    "  - $c = (100, 20, 150, 50, 50, 150, 150)$\n",
    "  - $b = (300, 50, 350, 110, 100, 250, 200)$"
   ]
  },
  {
   "cell_type": "code",
   "execution_count": 3,
   "metadata": {},
   "outputs": [],
   "source": [
    "projects = range(1,8)\n",
    "C_list = [100, 20, 150, 50, 50, 150, 150]\n",
    "B_list = [300, 50, 350, 110, 100, 250, 200]"
   ]
  },
  {
   "cell_type": "code",
   "execution_count": 8,
   "metadata": {},
   "outputs": [
    {
     "data": {
      "text/html": [
       "<div>\n",
       "<style scoped>\n",
       "    .dataframe tbody tr th:only-of-type {\n",
       "        vertical-align: middle;\n",
       "    }\n",
       "\n",
       "    .dataframe tbody tr th {\n",
       "        vertical-align: top;\n",
       "    }\n",
       "\n",
       "    .dataframe thead th {\n",
       "        text-align: right;\n",
       "    }\n",
       "</style>\n",
       "<table border=\"1\" class=\"dataframe\">\n",
       "  <thead>\n",
       "    <tr style=\"text-align: right;\">\n",
       "      <th>Project</th>\n",
       "      <th>1</th>\n",
       "      <th>2</th>\n",
       "      <th>3</th>\n",
       "      <th>4</th>\n",
       "      <th>5</th>\n",
       "      <th>6</th>\n",
       "      <th>7</th>\n",
       "    </tr>\n",
       "  </thead>\n",
       "  <tbody>\n",
       "    <tr>\n",
       "      <th>Cost</th>\n",
       "      <td>100</td>\n",
       "      <td>20</td>\n",
       "      <td>150</td>\n",
       "      <td>50</td>\n",
       "      <td>50</td>\n",
       "      <td>150</td>\n",
       "      <td>150</td>\n",
       "    </tr>\n",
       "    <tr>\n",
       "      <th>Benefit</th>\n",
       "      <td>300</td>\n",
       "      <td>50</td>\n",
       "      <td>350</td>\n",
       "      <td>110</td>\n",
       "      <td>100</td>\n",
       "      <td>250</td>\n",
       "      <td>200</td>\n",
       "    </tr>\n",
       "    <tr>\n",
       "      <th>NPV</th>\n",
       "      <td>200</td>\n",
       "      <td>30</td>\n",
       "      <td>200</td>\n",
       "      <td>60</td>\n",
       "      <td>50</td>\n",
       "      <td>100</td>\n",
       "      <td>50</td>\n",
       "    </tr>\n",
       "  </tbody>\n",
       "</table>\n",
       "</div>"
      ],
      "text/plain": [
       "Project    1   2    3    4    5    6    7\n",
       "Cost     100  20  150   50   50  150  150\n",
       "Benefit  300  50  350  110  100  250  200\n",
       "NPV      200  30  200   60   50  100   50"
      ]
     },
     "execution_count": 8,
     "metadata": {},
     "output_type": "execute_result"
    }
   ],
   "source": [
    "pd.DataFrame({'Project': projects, 'Cost': C_list, 'Benefit': B_list}).set_index('Project').assign(\n",
    "    NPV = table['Benefit'] - table['Cost'],\n",
    ").transpose()"
   ]
  },
  {
   "cell_type": "markdown",
   "metadata": {},
   "source": [
    "$\\max 200x_{1}+30x_{2}+200x_{3}+60x_{4}+50x_{5}+100x_{6}+50x_{7}$"
   ]
  },
  {
   "cell_type": "markdown",
   "metadata": {},
   "source": [
    "$s.t. 100x_{1}+20x_{2}+150x_{3}+50x_{4}+50x_{5}+150x_{6}+150x_{7} \\leq 500$"
   ]
  },
  {
   "cell_type": "markdown",
   "metadata": {},
   "source": [
    "2. Interdependent Projects: Zero-One Programming Problem"
   ]
  },
  {
   "cell_type": "markdown",
   "metadata": {},
   "source": [
    "  - Given:\n",
    "    - $m$: number of objectives\n",
    "    - $n_i$: number of possible projectss in the i-th objective\n",
    "    - only 1 project is selected from each objectives\n",
    "  - In objective $j$ of project $i$:\n",
    "    - $x_ij$: zero-one variable\n",
    "    - $c_ij$: initial cost\n",
    "    - $b_ij$: total benefit"
   ]
  },
  {
   "cell_type": "markdown",
   "metadata": {},
   "source": [
    "$\\max \\sum_{i=1}^{m}\\sum_{j=1}^{n_{i}}b_{ij}x_{ij}$"
   ]
  },
  {
   "cell_type": "markdown",
   "metadata": {},
   "source": [
    "$s.t. \\sum_{i=1}^{m}\\sum_{j=1}^{n_{i}}c_{ij}x_{ij}\\leq C$"
   ]
  },
  {
   "cell_type": "markdown",
   "metadata": {},
   "source": [
    "$s.t. \\sum_{j=1}^{n_{i}}x_{ij}\\leq 1, (i=1,2,...,m)$"
   ]
  },
  {
   "cell_type": "markdown",
   "metadata": {},
   "source": [
    "- The exclusivity of an individual project is represented by the second constraint:\n",
    "    - It states that the sum of the variables $x_ij$ for $j$ must not exceed $1$.\n",
    "    - And, since the variables are all $0$ or $1$, this means that for any $i$, there is only one $x_ij$ that can be $1$ (at most).\n",
    "    - i.e. only one project at most will be selected for goal $i$."
   ]
  },
  {
   "cell_type": "markdown",
   "metadata": {},
   "source": [
    "### 5.2 Optimal Portfolios"
   ]
  },
  {
   "cell_type": "markdown",
   "metadata": {},
   "source": [
    "- The Cash Matching Problem:\n",
    "    - \"1 period\": 6 months\n",
    "    - $m$: number of bonds\n",
    "    - $y   = (y_1,  y_2,  ..., y_n)$: liability (starts from 1 period from now)\n",
    "    - $c_j = (c_{1,j}, c_{2,j}, ..., c_{n,j})$: cash flow of bond $j$\n",
    "    - $p_j$: price of bond $j$\n",
    "    - $x_j$: inventory of bond $j$ in portfolio"
   ]
  },
  {
   "cell_type": "markdown",
   "metadata": {},
   "source": [
    "$\\min \\sum_{j=1}^{m}p_{j}x_{j}$"
   ]
  },
  {
   "cell_type": "markdown",
   "metadata": {},
   "source": [
    "$s.t. \\sum_{j=1}^{m}c_{ij}x_{j} \\geq y_{i}, (i=1,2,...,n)$"
   ]
  },
  {
   "cell_type": "markdown",
   "metadata": {},
   "source": [
    "$s.t. x_{j} \\geq 0, (j=1,2,...,m)$"
   ]
  },
  {
   "cell_type": "markdown",
   "metadata": {},
   "source": [
    "- The objective function to be minimized is the total cost of the portfolio, which is equal to the sum of the price of the bond multiplied by the amount purchased.\n",
    "- The main constraint, which is the cash matching constraint, indicates that, the total amount of cash to be generated in the period $i$ with $m$ bonds must be greater than the $i$-th cash matching constraint.\n",
    "- The last non-negativity constraint eliminates the possibility of short selling."
   ]
  },
  {
   "cell_type": "markdown",
   "metadata": {},
   "source": [
    "### 5.3 Dynamic Cash Flow Processes"
   ]
  },
  {
   "cell_type": "markdown",
   "metadata": {},
   "source": [
    "Portfolio of financial instruments must be systematically and appropriately modified over time. Such  selection is dealt with dynamic programming."
   ]
  },
  {
   "cell_type": "markdown",
   "metadata": {},
   "source": [
    "- Representation of Dynamic Choice\n",
    "- Cash Flows in Graphs"
   ]
  },
  {
   "cell_type": "markdown",
   "metadata": {},
   "source": [
    "- Dynamic Models:\n",
    "    - e.g. Graph: assigning cash flows to different branches of the graph allows evaluation of management alternatives. The outcome would be defined as \"final reward\" (final sale price) or \"salvage value\".\n",
    "        - Binomial Tree\n",
    "        - Binomial Lattice\n",
    "\n"
   ]
  },
  {
   "cell_type": "markdown",
   "metadata": {},
   "source": [
    "### 5.4 Optimal Management"
   ]
  },
  {
   "cell_type": "markdown",
   "metadata": {},
   "source": [
    "Each path through the tree determines a particular cash flow sequence, allowing one to determine the optimal management plan."
   ]
  },
  {
   "cell_type": "markdown",
   "metadata": {},
   "source": [
    "1. Comparison of all possible paths via NPV\n",
    "    - Curse of dimensionality"
   ]
  },
  {
   "cell_type": "markdown",
   "metadata": {},
   "source": [
    "2. Running Dynamic Programming\n",
    "    - Setting:\n",
    "        - $(k, i)$: node $i$ at period $k$\n",
    "        - $V_{ki}$: running value or \"V-value\" at $(k, i)$\n",
    "        - $d_k = 1 / (1 + r_k)$: discount rate\n",
    "        - $r_k = f_{(k,k+1)}$: short term interest\n",
    "        - The running value at the final node would be defined as the final value of the specific investment process."
   ]
  },
  {
   "cell_type": "markdown",
   "metadata": {},
   "source": [
    "- Dynamic programming deals with noes at the ($n-1$)-th period, assuming that an investment decision is already made to reach that specific mode.\n",
    "    - i.e. Cash flow $(c_0, c_1, ..., c_{n-2})$ is predetermined.\n",
    "- Thus, the only remaining decision would be to dinf out which one of the arcs lead from that node $(n-1, i)$ to the final node at period $n$.\n",
    "- And, (since it is hypothetically assumed that) past decisions are predetermined, the optimal arc would be the one that maximizes the running present value at period $n-1$.\n",
    "    - i.e. observe: $C_{n-1}^{a}+d_{n-1}V_{n,a}$\n",
    "        - where $a$ is the node to be reached at the n-th period\n",
    "- This process would be repeated for all nodes, and the maximum would be set as $V_{(n-1, i)}$, and can be evaluated as the best running present value that can be obtained at node $(n-1, i)$.\n",
    "- Then, the same process will be executed for the ($n-2$)-th period, and until the period $0$."
   ]
  },
  {
   "cell_type": "markdown",
   "metadata": {},
   "source": [
    "- Therefore the recursive process is specified as follows:\n",
    "    - $V_{ki} = \\max_{a} ( c_{ki}^{a}+d_{k}V_{k+1,a} )$\n",
    "        - where $c_{ki}^a$ is the generated cash flow when presuming from node $(k, i)$ to $(k+1, a)$"
   ]
  },
  {
   "cell_type": "markdown",
   "metadata": {},
   "source": [
    "- Other Variations of Graphs:\n",
    "    - Continuous Lattice"
   ]
  },
  {
   "cell_type": "markdown",
   "metadata": {},
   "source": [
    "### 5.5 The Harmony Theorem"
   ]
  },
  {
   "cell_type": "markdown",
   "metadata": {},
   "source": [
    "- The harmony theorem justifies venture operations to maximize the present value of the cash flow stream being generated:\n",
    "    1. A current owner of the venture would want to operate its venture in a way that maximizes the present value of its cash flow stream.\n",
    "    2. Potential owners, who would pay the full value of the expected stake on the venture, wwould operate in the same way, to maximize the return on their investment."
   ]
  },
  {
   "cell_type": "markdown",
   "metadata": {},
   "source": [
    "### 5.6 Valuation of a Firm"
   ]
  },
  {
   "cell_type": "markdown",
   "metadata": {},
   "source": [
    "- Dividend Discount Models\n",
    "    1. Constant-Growth Dividend Model: assumes that dividend grows at a constant ratio of $g$"
   ]
  },
  {
   "cell_type": "markdown",
   "metadata": {},
   "source": [
    "$V_0 = D_{1}\\sum_{k=1}^{\\infty } {(1+g)^{k-1}} / {(1+r)^{k}}$"
   ]
  },
  {
   "cell_type": "markdown",
   "metadata": {},
   "source": [
    "- $g < r$:"
   ]
  },
  {
   "cell_type": "code",
   "execution_count": 24,
   "metadata": {},
   "outputs": [],
   "source": [
    "def gordonFormula(D_1, r, g):\n",
    "    \"\"\"\n",
    "    D_1: dividend, one period later\n",
    "    r: interest (or discount rate)\n",
    "    g: dividend growth rate\n",
    "    \"\"\"\n",
    "    V_0 = D_1 / (r - g)\n",
    "    return V_0"
   ]
  },
  {
   "cell_type": "code",
   "execution_count": 18,
   "metadata": {},
   "outputs": [],
   "source": [
    "def discountGrowthFormula(D_0, r, g):\n",
    "    \"\"\"\n",
    "    D_0: dividend now\n",
    "    r: interest (or discount rate)\n",
    "    g: dividend growth rate\n",
    "    \"\"\"\n",
    "    V_0 = ((1 + g) * D_0) / (r - g)\n",
    "    return V_0"
   ]
  },
  {
   "cell_type": "markdown",
   "metadata": {},
   "source": [
    "- e.g. (5.6): \"value of a firm, after $1,370,000 of divident payment, with predicted growth rate of 10% (and discount rate of 15%)\""
   ]
  },
  {
   "cell_type": "code",
   "execution_count": 28,
   "metadata": {},
   "outputs": [
    {
     "data": {
      "text/plain": [
       "30140000.00000001"
      ]
     },
     "execution_count": 28,
     "metadata": {},
     "output_type": "execute_result"
    }
   ],
   "source": [
    "discountGrowthFormula(D_0=1_370_000, g=0.10, r=0.15) "
   ]
  },
  {
   "cell_type": "markdown",
   "metadata": {},
   "source": [
    "- Free Cash Flow: free cash while maintanance of optimal activity and investment strategies. In its ideal form, this approach requires that the present value of free cash flow be maximized in all management decisions, especially those related to investments that generate revenue growth."
   ]
  }
 ],
 "metadata": {
  "kernelspec": {
   "display_name": "Python 3",
   "language": "python",
   "name": "python3"
  },
  "language_info": {
   "codemirror_mode": {
    "name": "ipython",
    "version": 3
   },
   "file_extension": ".py",
   "mimetype": "text/x-python",
   "name": "python",
   "nbconvert_exporter": "python",
   "pygments_lexer": "ipython3",
   "version": "3.7.6"
  }
 },
 "nbformat": 4,
 "nbformat_minor": 4
}
