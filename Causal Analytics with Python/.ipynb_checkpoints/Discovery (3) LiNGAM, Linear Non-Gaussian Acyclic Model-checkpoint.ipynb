{
 "cells": [
  {
   "cell_type": "markdown",
   "metadata": {},
   "source": [
    "# Discovery with LiNGAM (Linear Non-Gaussian Acyclic Model)"
   ]
  },
  {
   "cell_type": "markdown",
   "metadata": {},
   "source": [
    "## Import Libraries"
   ]
  },
  {
   "cell_type": "code",
   "execution_count": 40,
   "metadata": {},
   "outputs": [],
   "source": [
    "import numpy as np\n",
    "import pandas as pd\n",
    "\n",
    "import matplotlib.pyplot as plt\n",
    "\n",
    "from sklearn.decomposition import FastICA\n",
    "\n",
    "from munkres import Munkres\n",
    "from copy import deepcopy\n",
    "\n",
    "import statsmodels.api as sm\n",
    "from sklearn.linear_model import LinearRegression"
   ]
  },
  {
   "cell_type": "markdown",
   "metadata": {},
   "source": [
    "## Data Generation"
   ]
  },
  {
   "cell_type": "code",
   "execution_count": 42,
   "metadata": {},
   "outputs": [],
   "source": [
    "n = 200"
   ]
  },
  {
   "cell_type": "markdown",
   "metadata": {},
   "source": [
    "let the DGP of variables $x_{1}$, $x_{2}$, and $x_{3}$ be defined as follows:"
   ]
  },
  {
   "cell_type": "markdown",
   "metadata": {},
   "source": [
    "$x_{i1} = 3x_{i2} + u_{i1}$"
   ]
  },
  {
   "cell_type": "markdown",
   "metadata": {},
   "source": [
    "$x_{i2} = u_{i2}$"
   ]
  },
  {
   "cell_type": "markdown",
   "metadata": {},
   "source": [
    "$x_{i3} = 2x_{i1} + 4x_{i2} + u_{i3}$"
   ]
  },
  {
   "cell_type": "markdown",
   "metadata": {},
   "source": [
    "where error terms u$_{ij}$, $j=1,2,3$ are assumed as non-gaussian."
   ]
  },
  {
   "cell_type": "code",
   "execution_count": 43,
   "metadata": {},
   "outputs": [],
   "source": [
    "def dgp_X(n):\n",
    "    \n",
    "    u = '2 * (np.random.randn(n) - 0.5)'\n",
    "    \n",
    "    x2 = eval(u)\n",
    "    x1 = (3 * x2) + eval(u)\n",
    "    x3 = (2 * x1) + (4 * x2) + eval(u)\n",
    "    \n",
    "    df = pd.DataFrame({\n",
    "        'x1': x1,\n",
    "        'x2': x2,\n",
    "        'x3': x3,\n",
    "    })\n",
    "    \n",
    "    return df"
   ]
  },
  {
   "cell_type": "code",
   "execution_count": 44,
   "metadata": {},
   "outputs": [],
   "source": [
    "df = dgp_X(n)"
   ]
  },
  {
   "cell_type": "code",
   "execution_count": 45,
   "metadata": {},
   "outputs": [],
   "source": [
    "ica = FastICA(random_state=1234).fit(df)\n",
    "A_ica = ica.mixing_\n",
    "A_ica_inv = np.linalg.pinv(A_ica)\n",
    "print(A_ica_inv)"
   ]
  },
  {
   "cell_type": "code",
   "execution_count": 49,
   "metadata": {},
   "outputs": [
    {
     "name": "stdout",
     "output_type": "stream",
     "text": [
      "[[ 0.03051866  0.0341036  -0.00916187]\n",
      " [ 0.01512113  0.18076407 -0.02220186]\n",
      " [-0.0717664  -0.03177092  0.02599674]]\n"
     ]
    }
   ],
   "source": [
    "A_ica_inv_small = 1 / np.abs(A_ica_inv)\n",
    "\n",
    "m = Munkres()\n",
    "ixs = np.vstack(m.compute(deepcopy(A_ica_inv_small)))\n",
    "\n",
    "ixs = ixs[np.argsort(ixs[:, 0]), :]\n",
    "ixs_perm = ixs[:, 1]\n",
    "A_ica_inv_perm = np.zeros_like(A_ica_inv)\n",
    "A_ica_inv_perm[ixs_perm] = A_ica_inv\n",
    "print(A_ica_inv_perm)"
   ]
  },
  {
   "cell_type": "code",
   "execution_count": 50,
   "metadata": {},
   "outputs": [
    {
     "name": "stdout",
     "output_type": "stream",
     "text": [
      "[[0 0]\n",
      " [1 2]\n",
      " [2 1]]\n"
     ]
    }
   ],
   "source": [
    "ixs"
   ]
  },
  {
   "cell_type": "code",
   "execution_count": 51,
   "metadata": {},
   "outputs": [
    {
     "name": "stdout",
     "output_type": "stream",
     "text": [
      "[[ 1.          1.11746719 -0.30020558]\n",
      " [ 0.08365121  1.         -0.12282233]\n",
      " [-2.76059259 -1.2221118   1.        ]]\n"
     ]
    }
   ],
   "source": [
    "D = np.diag(A_ica_inv_perm)[:, np.newaxis]  # D倍されているDを求める\n",
    "A_ica_inv_perm_D = A_ica_inv_perm / D\n",
    "print(A_ica_inv_perm_D)"
   ]
  },
  {
   "cell_type": "code",
   "execution_count": 52,
   "metadata": {},
   "outputs": [
    {
     "name": "stdout",
     "output_type": "stream",
     "text": [
      "[[ 0.         -1.11746719  0.30020558]\n",
      " [-0.08365121  0.          0.12282233]\n",
      " [ 2.76059259  1.2221118   0.        ]]\n"
     ]
    }
   ],
   "source": [
    "B_est = np.eye(3) - A_ica_inv_perm_D\n",
    "print(B_est)"
   ]
  },
  {
   "cell_type": "code",
   "execution_count": 53,
   "metadata": {},
   "outputs": [
    {
     "name": "stdout",
     "output_type": "stream",
     "text": [
      "[[ 0.         -1.11746719  0.        ]\n",
      " [ 0.          0.          0.        ]\n",
      " [ 2.76059259  1.2221118   0.        ]]\n"
     ]
    }
   ],
   "source": [
    "def _slttestperm(b_i):\n",
    "    n = b_i.shape[0]\n",
    "    remnodes = np.arange(n)\n",
    "    b_rem = deepcopy(b_i)\n",
    "    p = list() \n",
    "\n",
    "    for i in range(n):\n",
    "        ixs = np.where(np.sum(np.abs(b_rem), axis=1) < 1e-12)[0]\n",
    "\n",
    "        if len(ixs) == 0:\n",
    "            return None\n",
    "        else:\n",
    "            ix = ixs[0]\n",
    "            p.append(remnodes[ix])\n",
    "            \n",
    "            remnodes = np.hstack((remnodes[:ix], remnodes[(ix + 1):]))\n",
    "            ixs = np.hstack((np.arange(ix), np.arange(ix + 1, len(b_rem))))\n",
    "            b_rem = b_rem[ixs, :]\n",
    "            b_rem = b_rem[:, ixs]\n",
    "\n",
    "    return np.array(p)\n",
    "\n",
    "b = B_est\n",
    "n = b.shape[0]\n",
    "assert(b.shape == (n, n))\n",
    "\n",
    "ixs = np.argsort(np.abs(b).ravel())\n",
    "\n",
    "for i in range(int(n * (n + 1) / 2) - 1, (n * n) - 1):\n",
    "    b_i = deepcopy(b)\n",
    "    b_i.ravel()[ixs[:i]] = 0\n",
    "    ixs_perm = _slttestperm(b_i)\n",
    "    if ixs_perm is not None:\n",
    "        b_opt = deepcopy(b)\n",
    "        b_opt = b_opt[ixs_perm, :]\n",
    "        b_opt = b_opt[:, ixs_perm]\n",
    "        break\n",
    "b_csl = np.tril(b_opt, -1)\n",
    "b_csl[ixs_perm, :] = deepcopy(b_csl)\n",
    "b_csl[:, ixs_perm] = deepcopy(b_csl)\n",
    "\n",
    "B_est1 = b_csl\n",
    "print(B_est1)"
   ]
  },
  {
   "cell_type": "code",
   "execution_count": 54,
   "metadata": {},
   "outputs": [
    {
     "name": "stdout",
     "output_type": "stream",
     "text": [
      "係数： [2.97056516]\n",
      "係数： [1.98054718 4.11249397]\n"
     ]
    }
   ],
   "source": [
    "X1 = df[[\"x2\"]]\n",
    "X3 = df[[\"x1\", \"x2\"]]\n",
    "\n",
    "reg1 = LinearRegression().fit(X1, df[\"x1\"])\n",
    "reg3 = LinearRegression().fit(X3, df[\"x3\"])\n",
    "\n",
    "print(\"係数：\", reg1.coef_)\n",
    "print(\"係数：\", reg3.coef_)"
   ]
  },
  {
   "cell_type": "code",
   "execution_count": null,
   "metadata": {},
   "outputs": [],
   "source": []
  }
 ],
 "metadata": {
  "colab": {
   "collapsed_sections": [],
   "name": "5_2_meta_learners_issue18.ipynb",
   "provenance": []
  },
  "kernelspec": {
   "display_name": "Python 3",
   "language": "python",
   "name": "python3"
  },
  "language_info": {
   "codemirror_mode": {
    "name": "ipython",
    "version": 3
   },
   "file_extension": ".py",
   "mimetype": "text/x-python",
   "name": "python",
   "nbconvert_exporter": "python",
   "pygments_lexer": "ipython3",
   "version": "3.7.6"
  }
 },
 "nbformat": 4,
 "nbformat_minor": 4
}
