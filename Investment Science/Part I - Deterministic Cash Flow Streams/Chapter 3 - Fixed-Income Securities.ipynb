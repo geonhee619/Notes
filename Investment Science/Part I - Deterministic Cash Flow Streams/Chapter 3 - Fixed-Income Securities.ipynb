{
 "cells": [
  {
   "cell_type": "code",
   "execution_count": 1,
   "metadata": {},
   "outputs": [],
   "source": [
    "import numpy as np\n",
    "import pandas as pd\n",
    "import math, gc\n",
    "\n",
    "import sympy as sym\n",
    "from IPython.display import display, Latex"
   ]
  },
  {
   "cell_type": "markdown",
   "metadata": {},
   "source": [
    "## Chapter 3 Fixed-Income Securities"
   ]
  },
  {
   "cell_type": "markdown",
   "metadata": {},
   "source": [
    "### 3.1 The Market for Future Cash"
   ]
  },
  {
   "cell_type": "markdown",
   "metadata": {},
   "source": [
    "Savings Deposits, Money Market Instruments, U.S. Government Securities, Other Bonds, Mortgages, Annuities"
   ]
  },
  {
   "cell_type": "markdown",
   "metadata": {},
   "source": [
    "### 3.2 Value Formulas"
   ]
  },
  {
   "cell_type": "markdown",
   "metadata": {},
   "source": [
    "Perpetual Annuities (e.g. consol)"
   ]
  },
  {
   "cell_type": "code",
   "execution_count": 16,
   "metadata": {},
   "outputs": [],
   "source": [
    "def perpetualAnnuity(A, r):\n",
    "    \"\"\"\n",
    "    A: amount of periodic payment\n",
    "    r: interest\n",
    "    \"\"\"\n",
    "    P = A / r\n",
    "    return P"
   ]
  },
  {
   "cell_type": "markdown",
   "metadata": {},
   "source": [
    "e.g. 3.1: present value of a perpetual annuity of 1,000 dollars every year with 10% interest."
   ]
  },
  {
   "cell_type": "code",
   "execution_count": 17,
   "metadata": {},
   "outputs": [
    {
     "data": {
      "text/plain": [
       "10000.0"
      ]
     },
     "execution_count": 17,
     "metadata": {},
     "output_type": "execute_result"
    }
   ],
   "source": [
    "perpetualAnnuity(A=1000, r=0.1)"
   ]
  },
  {
   "cell_type": "markdown",
   "metadata": {},
   "source": [
    "Finite-Life Streams (Annuity Formula)"
   ]
  },
  {
   "cell_type": "code",
   "execution_count": 18,
   "metadata": {},
   "outputs": [],
   "source": [
    "def finiteLifeStreams_P(A, r, n):\n",
    "    \"\"\"\n",
    "    A: amount of periodic payment\n",
    "    r: interest\n",
    "    n: periods\n",
    "    \"\"\"\n",
    "    P = (A / r) * (1 - (1 / ((1 + r) ** n)))\n",
    "    return P"
   ]
  },
  {
   "cell_type": "code",
   "execution_count": 19,
   "metadata": {},
   "outputs": [],
   "source": [
    "def finiteLifeStreams_A(P, r, n):\n",
    "    \"\"\"\n",
    "    P: present value\n",
    "    r: interest\n",
    "    n: periods\n",
    "    \"\"\"\n",
    "    A = (r * ((1 + r) ** n) * P) / (((1 + r) ** n) - 1)\n",
    "    return A"
   ]
  },
  {
   "cell_type": "markdown",
   "metadata": {},
   "source": [
    "e.g. 3.2: \"monthly payment of loan (amortization) of $1,000 with 12% compound interest for 5 years.\""
   ]
  },
  {
   "cell_type": "code",
   "execution_count": 20,
   "metadata": {},
   "outputs": [
    {
     "data": {
      "text/plain": [
       "22.24444768490176"
      ]
     },
     "execution_count": 20,
     "metadata": {},
     "output_type": "execute_result"
    }
   ],
   "source": [
    "finiteLifeStreams_A(1000, 0.01, 60)"
   ]
  },
  {
   "cell_type": "markdown",
   "metadata": {},
   "source": [
    "Running Amortization, Annual Worth"
   ]
  },
  {
   "cell_type": "markdown",
   "metadata": {},
   "source": [
    "### 3.3 Bond Details"
   ]
  },
  {
   "cell_type": "markdown",
   "metadata": {},
   "source": [
    "Accrued Interest, Quality Ratings (investment grade, junk bond)"
   ]
  },
  {
   "cell_type": "markdown",
   "metadata": {},
   "source": [
    "### 3.4 Yield"
   ]
  },
  {
   "cell_type": "markdown",
   "metadata": {},
   "source": [
    "Yield to Maturity"
   ]
  },
  {
   "cell_type": "code",
   "execution_count": 21,
   "metadata": {},
   "outputs": [],
   "source": [
    "def bondPrice_yieldFormula(F, C, m, n, _lambda):\n",
    "    \"\"\"\n",
    "    F: face value of bond\n",
    "    C: coupon payment per year\n",
    "    m: number of payments per year\n",
    "    n: remaining periods\n",
    "    \"\"\"\n",
    "    _1 = F / ((1 + (_lambda / m)) ** n)\n",
    "    _2 = (C / _lambda) * (1 - (1 / ((1 + (_lambda / m)) ** n)))\n",
    "    P = _1 + _2\n",
    "    return P"
   ]
  },
  {
   "cell_type": "markdown",
   "metadata": {},
   "source": [
    "Qualitative Nature of Price-Yield Curves (Negative gradient: lower bond prices means a rise in yield)"
   ]
  },
  {
   "cell_type": "markdown",
   "metadata": {},
   "source": [
    "Other Yield Measures"
   ]
  },
  {
   "cell_type": "code",
   "execution_count": 22,
   "metadata": {},
   "outputs": [],
   "source": [
    "def currentYield(annual_interest, bond_price):\n",
    "    CY = (annual_interest / bond_price) * 100\n",
    "    return CY"
   ]
  },
  {
   "cell_type": "markdown",
   "metadata": {},
   "source": [
    "### 3.5 Duration"
   ]
  },
  {
   "cell_type": "markdown",
   "metadata": {},
   "source": [
    "All other conditions being equal, the slope of the price-yield curve will be greater for longer maturity bonds than for shorter maturity bonds.\n",
    "Hence, the price of long-term bonds is more sensitive to changes in interest rates than the price of short-term bonds.\n",
    "However, this is an approximation. Maturity itself does not give a fully sensitive measure of quantitative interest rates.\n",
    "Another measure called duration, gives a more direct measure of interest rates."
   ]
  },
  {
   "cell_type": "markdown",
   "metadata": {},
   "source": [
    "(1) Interest Duration"
   ]
  },
  {
   "cell_type": "markdown",
   "metadata": {},
   "source": [
    "(2) Macaulay Duration"
   ]
  },
  {
   "cell_type": "code",
   "execution_count": 23,
   "metadata": {},
   "outputs": [],
   "source": [
    "def macaulayDuration(c, y, m, n):\n",
    "    \"\"\"\n",
    "    c: coupon rate\n",
    "    y: yield per period\n",
    "    m: periods per year\n",
    "    n: remaining periods until maturity\n",
    "    \"\"\"\n",
    "    _1 = (1 + y) / (m * y)\n",
    "    _2_1 = 1 + y + (n * (c - y))\n",
    "    _2_2 = (m * c * (((1 + y) ** n) - 1)) + (m * y)\n",
    "    D = _1 - (_2_1 / _2_2)\n",
    "    return D"
   ]
  },
  {
   "cell_type": "markdown",
   "metadata": {},
   "source": [
    "e.g. 3.7: \"duration of 30-year par bond with 10% coupon rate\""
   ]
  },
  {
   "cell_type": "code",
   "execution_count": 24,
   "metadata": {},
   "outputs": [
    {
     "data": {
      "text/plain": [
       "9.937877000661812"
      ]
     },
     "execution_count": 24,
     "metadata": {},
     "output_type": "execute_result"
    }
   ],
   "source": [
    "# c = y in par bonds\n",
    "macaulayDuration(c=0.05, y=0.05, m=2, n=60)"
   ]
  },
  {
   "cell_type": "markdown",
   "metadata": {},
   "source": [
    "Duration and Sensitivity"
   ]
  },
  {
   "cell_type": "markdown",
   "metadata": {},
   "source": [
    "Modified Duration (directly measure the relative change in bond prices to the change in yield), Price Sensitivity Formula"
   ]
  }
 ],
 "metadata": {
  "kernelspec": {
   "display_name": "Python 3",
   "language": "python",
   "name": "python3"
  },
  "language_info": {
   "codemirror_mode": {
    "name": "ipython",
    "version": 3
   },
   "file_extension": ".py",
   "mimetype": "text/x-python",
   "name": "python",
   "nbconvert_exporter": "python",
   "pygments_lexer": "ipython3",
   "version": "3.7.6"
  }
 },
 "nbformat": 4,
 "nbformat_minor": 4
}
