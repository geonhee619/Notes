{
 "cells": [
  {
   "cell_type": "code",
   "execution_count": 1,
   "metadata": {},
   "outputs": [],
   "source": [
    "import numpy as np\n",
    "import pandas as pd\n",
    "import math, gc\n",
    "\n",
    "import sympy as sym\n",
    "from IPython.display import display, Latex"
   ]
  },
  {
   "cell_type": "markdown",
   "metadata": {},
   "source": [
    "# Part I Deterministic Cash Flow Streams"
   ]
  },
  {
   "cell_type": "markdown",
   "metadata": {},
   "source": [
    "## Chapter 2 The Basic Theory Of Interest"
   ]
  },
  {
   "cell_type": "markdown",
   "metadata": {},
   "source": [
    "### 2.1 Principal and Interest"
   ]
  },
  {
   "cell_type": "markdown",
   "metadata": {},
   "source": [
    "(1) Simple Interest"
   ]
  },
  {
   "cell_type": "code",
   "execution_count": 5,
   "metadata": {},
   "outputs": [],
   "source": [
    "def simpleInterest(r, t, A):\n",
    "    \"\"\"\n",
    "    r: simple interest\n",
    "    n: time in years\n",
    "    A: principal\n",
    "    V: amount\n",
    "    \"\"\"\n",
    "    V = (1 + (r * t)) * A\n",
    "    return V"
   ]
  },
  {
   "cell_type": "markdown",
   "metadata": {},
   "source": [
    "(2) Compound Interest"
   ]
  },
  {
   "cell_type": "code",
   "execution_count": 6,
   "metadata": {},
   "outputs": [],
   "source": [
    "def compoundInterest(r, n, t, A):\n",
    "    \"\"\"\n",
    "    r: interest\n",
    "    t: time\n",
    "    n: number of compound per t\n",
    "    A: principal\n",
    "    V: amount\n",
    "    \"\"\"\n",
    "    V = A * ((1 + (r / n)) ** (n * t))\n",
    "    return V"
   ]
  },
  {
   "cell_type": "markdown",
   "metadata": {},
   "source": [
    "### 2.2 Present Value"
   ]
  },
  {
   "cell_type": "markdown",
   "metadata": {},
   "source": [
    "Discount Factor"
   ]
  },
  {
   "cell_type": "code",
   "execution_count": 7,
   "metadata": {},
   "outputs": [],
   "source": [
    "def discountFactor(r, m, k):\n",
    "    \"\"\"\n",
    "    r: interest\n",
    "    m: number of compound per t\n",
    "    k: time\n",
    "    \"\"\"\n",
    "    d_k = 1 / ((1 + (r / m)) ** k)\n",
    "    return d_k"
   ]
  },
  {
   "cell_type": "markdown",
   "metadata": {},
   "source": [
    "Present Value"
   ]
  },
  {
   "cell_type": "code",
   "execution_count": 8,
   "metadata": {},
   "outputs": [],
   "source": [
    "def presentValue(d_k, A):\n",
    "    \"\"\"\n",
    "    d_k: discount factor of k perios ahead\n",
    "    A: principal\n",
    "    \"\"\"\n",
    "    pv_k = d_k * A\n",
    "    return pv_k"
   ]
  },
  {
   "cell_type": "markdown",
   "metadata": {},
   "source": [
    "### 2.3 Present and Future Values of Streams"
   ]
  },
  {
   "cell_type": "markdown",
   "metadata": {},
   "source": [
    "Future Value of Cash Flow"
   ]
  },
  {
   "cell_type": "code",
   "execution_count": 9,
   "metadata": {},
   "outputs": [],
   "source": [
    "def futureValue(cf_list, r):\n",
    "    \"\"\"\n",
    "    cf_list: cashflow in list\n",
    "    r: interest\n",
    "    \"\"\"\n",
    "    n = len(cf_list)\n",
    "    fv = 0\n",
    "    for i in range(n):\n",
    "        fv += cf_list[i] * ((1 + r) ** (n - i))\n",
    "    return fv"
   ]
  },
  {
   "cell_type": "markdown",
   "metadata": {},
   "source": [
    "Present Value of Cash Flow"
   ]
  },
  {
   "cell_type": "code",
   "execution_count": 10,
   "metadata": {},
   "outputs": [],
   "source": [
    "def presentValue(cf_list, r):\n",
    "    \"\"\"\n",
    "    cf_list: cashflow in list\n",
    "    r: interest\n",
    "    \"\"\"\n",
    "    pv = 0\n",
    "    for n in range(len(cf_list)):\n",
    "        pv += cf_list[n] / ((1 + r) ** n)\n",
    "    return pv"
   ]
  },
  {
   "cell_type": "markdown",
   "metadata": {},
   "source": [
    "### 2.5 Evaluation Criteria"
   ]
  },
  {
   "cell_type": "markdown",
   "metadata": {},
   "source": [
    "Net Present Value"
   ]
  },
  {
   "cell_type": "code",
   "execution_count": 11,
   "metadata": {},
   "outputs": [],
   "source": [
    "def netPresentValue(cf_list, r):\n",
    "    \"\"\"\n",
    "    cf_list: cashflow in list\n",
    "    r: interest\n",
    "    \"\"\"\n",
    "    npv = 0\n",
    "    for i, x in enumerate(cf_list):\n",
    "        npv += x / ((1 + r) ** i)\n",
    "    return npv"
   ]
  },
  {
   "cell_type": "markdown",
   "metadata": {},
   "source": [
    "e.g. (2.4)"
   ]
  },
  {
   "cell_type": "code",
   "execution_count": 12,
   "metadata": {
    "jupyter": {
     "source_hidden": true
    }
   },
   "outputs": [
    {
     "data": {
      "text/latex": [
       "$x = (-1, 2), r = 0.1$"
      ],
      "text/plain": [
       "<IPython.core.display.Latex object>"
      ]
     },
     "metadata": {},
     "output_type": "display_data"
    }
   ],
   "source": [
    "_ = 'x = (-1, 2), r = 0.1'\n",
    "display(Latex(f'${_}$'))"
   ]
  },
  {
   "cell_type": "code",
   "execution_count": 13,
   "metadata": {},
   "outputs": [
    {
     "data": {
      "text/plain": [
       "0.8181818181818181"
      ]
     },
     "execution_count": 13,
     "metadata": {},
     "output_type": "execute_result"
    }
   ],
   "source": [
    "netPresentValue(cf_list=[-1, 2], r=0.1)"
   ]
  },
  {
   "cell_type": "code",
   "execution_count": 14,
   "metadata": {
    "jupyter": {
     "source_hidden": true
    }
   },
   "outputs": [
    {
     "data": {
      "text/latex": [
       "$x = (-1, 0, 3), r = 0.1$"
      ],
      "text/plain": [
       "<IPython.core.display.Latex object>"
      ]
     },
     "metadata": {},
     "output_type": "display_data"
    }
   ],
   "source": [
    "_ = 'x = (-1, 0, 3), r = 0.1'\n",
    "display(Latex(f'${_}$'))"
   ]
  },
  {
   "cell_type": "code",
   "execution_count": 15,
   "metadata": {},
   "outputs": [
    {
     "data": {
      "text/plain": [
       "1.4793388429752063"
      ]
     },
     "execution_count": 15,
     "metadata": {},
     "output_type": "execute_result"
    }
   ],
   "source": [
    "netPresentValue(cf_list=[-1, 0, 3], r=0.1)"
   ]
  },
  {
   "cell_type": "markdown",
   "metadata": {},
   "source": [
    "### 2.6 Applications and Extensions"
   ]
  },
  {
   "cell_type": "markdown",
   "metadata": {},
   "source": [
    "Net Flows, Cycle Problems, Taxes, Inflation"
   ]
  },
  {
   "cell_type": "markdown",
   "metadata": {},
   "source": [
    "## Chapter 3 Fixed-Income Securities"
   ]
  },
  {
   "cell_type": "markdown",
   "metadata": {},
   "source": [
    "### 3.1 The Market for Future Cash"
   ]
  },
  {
   "cell_type": "markdown",
   "metadata": {},
   "source": [
    "Savings Deposits, Money Market Instruments, U.S. Government Securities, Other Bonds, Mortgages, Annuities"
   ]
  },
  {
   "cell_type": "markdown",
   "metadata": {},
   "source": [
    "### 3.2 Value Formulas"
   ]
  },
  {
   "cell_type": "markdown",
   "metadata": {},
   "source": [
    "Perpetual Annuities (e.g. consol)"
   ]
  },
  {
   "cell_type": "code",
   "execution_count": 16,
   "metadata": {},
   "outputs": [],
   "source": [
    "def perpetualAnnuity(A, r):\n",
    "    \"\"\"\n",
    "    A: amount of periodic payment\n",
    "    r: interest\n",
    "    \"\"\"\n",
    "    P = A / r\n",
    "    return P"
   ]
  },
  {
   "cell_type": "markdown",
   "metadata": {},
   "source": [
    "e.g. 3.1: present value of a perpetual annuity of 1,000 dollars every year with 10% interest."
   ]
  },
  {
   "cell_type": "code",
   "execution_count": 17,
   "metadata": {},
   "outputs": [
    {
     "data": {
      "text/plain": [
       "10000.0"
      ]
     },
     "execution_count": 17,
     "metadata": {},
     "output_type": "execute_result"
    }
   ],
   "source": [
    "perpetualAnnuity(A=1000, r=0.1)"
   ]
  },
  {
   "cell_type": "markdown",
   "metadata": {},
   "source": [
    "Finite-Life Streams (Annuity Formula)"
   ]
  },
  {
   "cell_type": "code",
   "execution_count": 18,
   "metadata": {},
   "outputs": [],
   "source": [
    "def finiteLifeStreams_P(A, r, n):\n",
    "    \"\"\"\n",
    "    A: amount of periodic payment\n",
    "    r: interest\n",
    "    n: periods\n",
    "    \"\"\"\n",
    "    P = (A / r) * (1 - (1 / ((1 + r) ** n)))\n",
    "    return P"
   ]
  },
  {
   "cell_type": "code",
   "execution_count": 19,
   "metadata": {},
   "outputs": [],
   "source": [
    "def finiteLifeStreams_A(P, r, n):\n",
    "    \"\"\"\n",
    "    P: present value\n",
    "    r: interest\n",
    "    n: periods\n",
    "    \"\"\"\n",
    "    A = (r * ((1 + r) ** n) * P) / (((1 + r) ** n) - 1)\n",
    "    return A"
   ]
  },
  {
   "cell_type": "markdown",
   "metadata": {},
   "source": [
    "e.g. 3.2: \"monthly payment of loan (amortization) of $1,000 with 12% compound interest for 5 years.\""
   ]
  },
  {
   "cell_type": "code",
   "execution_count": 20,
   "metadata": {},
   "outputs": [
    {
     "data": {
      "text/plain": [
       "22.24444768490176"
      ]
     },
     "execution_count": 20,
     "metadata": {},
     "output_type": "execute_result"
    }
   ],
   "source": [
    "finiteLifeStreams_A(1000, 0.01, 60)"
   ]
  },
  {
   "cell_type": "markdown",
   "metadata": {},
   "source": [
    "Running Amortization, Annual Worth"
   ]
  },
  {
   "cell_type": "markdown",
   "metadata": {},
   "source": [
    "### 3.3 Bond Details"
   ]
  },
  {
   "cell_type": "markdown",
   "metadata": {},
   "source": [
    "Accrued Interest, Quality Ratings (investment grade, junk bond)"
   ]
  },
  {
   "cell_type": "markdown",
   "metadata": {},
   "source": [
    "### 3.4 Yield"
   ]
  },
  {
   "cell_type": "markdown",
   "metadata": {},
   "source": [
    "Yield to Maturity"
   ]
  },
  {
   "cell_type": "code",
   "execution_count": 21,
   "metadata": {},
   "outputs": [],
   "source": [
    "def bondPrice_yieldFormula(F, C, m, n, _lambda):\n",
    "    \"\"\"\n",
    "    F: face value of bond\n",
    "    C: coupon payment per year\n",
    "    m: number of payments per year\n",
    "    n: remaining periods\n",
    "    \"\"\"\n",
    "    _1 = F / ((1 + (_lambda / m)) ** n)\n",
    "    _2 = (C / _lambda) * (1 - (1 / ((1 + (_lambda / m)) ** n)))\n",
    "    P = _1 + _2\n",
    "    return P"
   ]
  },
  {
   "cell_type": "markdown",
   "metadata": {},
   "source": [
    "Qualitative Nature of Price-Yield Curves (Negative gradient: lower bond prices means a rise in yield)"
   ]
  },
  {
   "cell_type": "markdown",
   "metadata": {},
   "source": [
    "Other Yield Measures"
   ]
  },
  {
   "cell_type": "code",
   "execution_count": 22,
   "metadata": {},
   "outputs": [],
   "source": [
    "def currentYield(annual_interest, bond_price):\n",
    "    CY = (annual_interest / bond_price) * 100\n",
    "    return CY"
   ]
  },
  {
   "cell_type": "markdown",
   "metadata": {},
   "source": [
    "### 3.5 Duration"
   ]
  },
  {
   "cell_type": "markdown",
   "metadata": {},
   "source": [
    "All other conditions being equal, the slope of the price-yield curve will be greater for longer maturity bonds than for shorter maturity bonds.\n",
    "Hence, the price of long-term bonds is more sensitive to changes in interest rates than the price of short-term bonds.\n",
    "However, this is an approximation. Maturity itself does not give a fully sensitive measure of quantitative interest rates.\n",
    "Another measure called duration, gives a more direct measure of interest rates."
   ]
  },
  {
   "cell_type": "markdown",
   "metadata": {},
   "source": [
    "(1) Interest Duration"
   ]
  },
  {
   "cell_type": "markdown",
   "metadata": {},
   "source": [
    "(2) Macaulay Duration"
   ]
  },
  {
   "cell_type": "code",
   "execution_count": 23,
   "metadata": {},
   "outputs": [],
   "source": [
    "def macaulayDuration(c, y, m, n):\n",
    "    \"\"\"\n",
    "    c: coupon rate\n",
    "    y: yield per period\n",
    "    m: periods per year\n",
    "    n: remaining periods until maturity\n",
    "    \"\"\"\n",
    "    _1 = (1 + y) / (m * y)\n",
    "    _2_1 = 1 + y + (n * (c - y))\n",
    "    _2_2 = (m * c * (((1 + y) ** n) - 1)) + (m * y)\n",
    "    D = _1 - (_2_1 / _2_2)\n",
    "    return D"
   ]
  },
  {
   "cell_type": "markdown",
   "metadata": {},
   "source": [
    "e.g. 3.7: \"duration of 30-year par bond with 10% coupon rate\""
   ]
  },
  {
   "cell_type": "code",
   "execution_count": 24,
   "metadata": {},
   "outputs": [
    {
     "data": {
      "text/plain": [
       "9.937877000661812"
      ]
     },
     "execution_count": 24,
     "metadata": {},
     "output_type": "execute_result"
    }
   ],
   "source": [
    "# c = y in par bonds\n",
    "macaulayDuration(c=0.05, y=0.05, m=2, n=60)"
   ]
  },
  {
   "cell_type": "markdown",
   "metadata": {},
   "source": [
    "Duration and Sensitivity"
   ]
  },
  {
   "cell_type": "markdown",
   "metadata": {},
   "source": [
    "Modified Duration (directly measure the relative change in bond prices to the change in yield), Price Sensitivity Formula"
   ]
  },
  {
   "cell_type": "markdown",
   "metadata": {},
   "source": [
    "## Chapter 4 The Term Structure Of Interest"
   ]
  },
  {
   "cell_type": "markdown",
   "metadata": {},
   "source": [
    "### 4.1 The Yield Curve"
   ]
  },
  {
   "cell_type": "markdown",
   "metadata": {},
   "source": [
    "Yield plotted against the maturity of a bond of similar nature."
   ]
  },
  {
   "cell_type": "markdown",
   "metadata": {},
   "source": [
    "### 4.2 The Term Structure"
   ]
  },
  {
   "cell_type": "markdown",
   "metadata": {},
   "source": [
    "Spot Rate (s_t): Interest rate on money held from present (t = 0) to t"
   ]
  },
  {
   "cell_type": "markdown",
   "metadata": {},
   "source": [
    "e.g. in: (a) Annual Compound Interest, (b) Compound Interest of m periods per year, (c) Continuous Compound"
   ]
  },
  {
   "cell_type": "markdown",
   "metadata": {},
   "source": [
    "### 4.3 Forward Rates"
   ]
  },
  {
   "cell_type": "markdown",
   "metadata": {},
   "source": [
    "Forward Rate: future yield of bond given two future time periods"
   ]
  },
  {
   "cell_type": "code",
   "execution_count": 25,
   "metadata": {},
   "outputs": [],
   "source": [
    "def impliedForwardRate_a(t_1, s_1, t_2, s_2):\n",
    "    \"\"\"\n",
    "    t_1: starting period\n",
    "    s_1: spot rate at period t_1\n",
    "    t_2: end period\n",
    "    s_2: spot rate at period t_2\n",
    "    f_12: implied forward rate (under annual compound)\n",
    "    assert t_1 < t_2\n",
    "    \"\"\"\n",
    "    f_12 = ((((1 + s_2) ** t_2) / (1 + s_1 ** t_1)) ** (1 / (t_2 - t_1))) - 1\n",
    "    return f_12"
   ]
  },
  {
   "cell_type": "code",
   "execution_count": 26,
   "metadata": {},
   "outputs": [],
   "source": [
    "def impliedForwardRate_b(t_1, s_1, t_2, s_2):\n",
    "    \"\"\"\n",
    "    t_1: starting period\n",
    "    s_1: spot rate at period t_1\n",
    "    t_2: end period\n",
    "    s_2: spot rate at period t_2\n",
    "    f_12: implied forward rate (under compound of m periods per year)\n",
    "    assert t_1 < t_2\n",
    "    \"\"\"\n",
    "    f_12 = (m * ((((1 + (s_2 / m)) ** t_2) / ((1 + (s_1 / m)) ** t_1)) ** (1 / (t_2 - t_1)))) - m\n",
    "    return f_12"
   ]
  },
  {
   "cell_type": "code",
   "execution_count": 27,
   "metadata": {},
   "outputs": [],
   "source": [
    "def impliedForwardRate_c(t_1, s_1, t_2, s_2):\n",
    "    \"\"\"\n",
    "    t_1: starting period\n",
    "    s_1: spot rate at period t_1\n",
    "    t_2: end period\n",
    "    s_2: spot rate at period t_2\n",
    "    f_12: implied forward rate (under continuous compound)\n",
    "    assert t_1 < t_2\n",
    "    \"\"\"\n",
    "    f_12 = ((s_2 * t_2) - (s_1 * t_1)) / (t_2 - t_1)\n",
    "    return f_12"
   ]
  },
  {
   "cell_type": "markdown",
   "metadata": {},
   "source": [
    "### 4.4 Explanations for Term Structure"
   ]
  },
  {
   "cell_type": "markdown",
   "metadata": {},
   "source": [
    "(1) Expectations Theory, (2) Liquidity Preference, (3) Market Segmentation"
   ]
  },
  {
   "cell_type": "markdown",
   "metadata": {},
   "source": [
    "### 4.5 Expectations Dynamics"
   ]
  },
  {
   "cell_type": "markdown",
   "metadata": {},
   "source": [
    "Spot Rate Forecasts (via \"Expectations Dynamics\")"
   ]
  },
  {
   "cell_type": "markdown",
   "metadata": {},
   "source": [
    "(Assume spot rate curve as (s_1, s_2, ..., s_n), spot rate of the following year as (s'_1, s'_2, ..., s'_n))"
   ]
  },
  {
   "cell_type": "markdown",
   "metadata": {},
   "source": [
    "The current forward rate can be thought of as representing expectations of what interest rates will be the following year. Thus, allowing measuremtn of interest rate from next year until (t_2 - 1) years ahead."
   ]
  },
  {
   "cell_type": "markdown",
   "metadata": {},
   "source": [
    "In other words, f_(1, t_2) becomes s'_(t_2 - 1)."
   ]
  },
  {
   "cell_type": "code",
   "execution_count": 28,
   "metadata": {},
   "outputs": [],
   "source": [
    "def spotRateForecast(s_1, t_2, s_2):\n",
    "    \"\"\"\n",
    "    s_1: spot rate at period t_1\n",
    "    t_2: end period\n",
    "    s_2: spot rate at period t_2\n",
    "    \"\"\"\n",
    "    f_1_t2 = impliedForwardRate_a(t_1=1, s_1=s_1, t_2=t_2, s_2=s_2)\n",
    "    s_prime_t2_minus_1 = f_1_t2\n",
    "    return s_prime_t2_minus_1"
   ]
  },
  {
   "cell_type": "markdown",
   "metadata": {},
   "source": [
    "e.g. 4.5: simple spot rate forecast given the following spot rate curve"
   ]
  },
  {
   "cell_type": "code",
   "execution_count": 29,
   "metadata": {},
   "outputs": [],
   "source": [
    "table = pd.DataFrame({'current': [6.00, 6.45, 6.8, 7.10, 7.36, 7.56, 7.77]})\n",
    "table.index += 1\n",
    "table = table.transpose()"
   ]
  },
  {
   "cell_type": "code",
   "execution_count": 30,
   "metadata": {},
   "outputs": [
    {
     "data": {
      "text/html": [
       "<div>\n",
       "<style scoped>\n",
       "    .dataframe tbody tr th:only-of-type {\n",
       "        vertical-align: middle;\n",
       "    }\n",
       "\n",
       "    .dataframe tbody tr th {\n",
       "        vertical-align: top;\n",
       "    }\n",
       "\n",
       "    .dataframe thead th {\n",
       "        text-align: right;\n",
       "    }\n",
       "</style>\n",
       "<table border=\"1\" class=\"dataframe\">\n",
       "  <thead>\n",
       "    <tr style=\"text-align: right;\">\n",
       "      <th></th>\n",
       "      <th>s_1</th>\n",
       "      <th>s_2</th>\n",
       "      <th>s_3</th>\n",
       "      <th>s_4</th>\n",
       "      <th>s_5</th>\n",
       "      <th>s_6</th>\n",
       "      <th>s_7</th>\n",
       "    </tr>\n",
       "  </thead>\n",
       "  <tbody>\n",
       "    <tr>\n",
       "      <th>current</th>\n",
       "      <td>6.0</td>\n",
       "      <td>6.45</td>\n",
       "      <td>6.8</td>\n",
       "      <td>7.1</td>\n",
       "      <td>7.36</td>\n",
       "      <td>7.56</td>\n",
       "      <td>7.77</td>\n",
       "    </tr>\n",
       "  </tbody>\n",
       "</table>\n",
       "</div>"
      ],
      "text/plain": [
       "         s_1   s_2  s_3  s_4   s_5   s_6   s_7\n",
       "current  6.0  6.45  6.8  7.1  7.36  7.56  7.77"
      ]
     },
     "execution_count": 30,
     "metadata": {},
     "output_type": "execute_result"
    }
   ],
   "source": [
    "table.add_prefix('s_')"
   ]
  },
  {
   "cell_type": "code",
   "execution_count": 31,
   "metadata": {},
   "outputs": [
    {
     "data": {
      "text/html": [
       "<div>\n",
       "<style scoped>\n",
       "    .dataframe tbody tr th:only-of-type {\n",
       "        vertical-align: middle;\n",
       "    }\n",
       "\n",
       "    .dataframe tbody tr th {\n",
       "        vertical-align: top;\n",
       "    }\n",
       "\n",
       "    .dataframe thead th {\n",
       "        text-align: right;\n",
       "    }\n",
       "</style>\n",
       "<table border=\"1\" class=\"dataframe\">\n",
       "  <thead>\n",
       "    <tr style=\"text-align: right;\">\n",
       "      <th></th>\n",
       "      <th>s_1</th>\n",
       "      <th>s_2</th>\n",
       "      <th>s_3</th>\n",
       "      <th>s_4</th>\n",
       "      <th>s_5</th>\n",
       "      <th>s_6</th>\n",
       "      <th>s_7</th>\n",
       "    </tr>\n",
       "  </thead>\n",
       "  <tbody>\n",
       "    <tr>\n",
       "      <th>current</th>\n",
       "      <td>6.0</td>\n",
       "      <td>6.45</td>\n",
       "      <td>6.8</td>\n",
       "      <td>7.1</td>\n",
       "      <td>7.36</td>\n",
       "      <td>7.56</td>\n",
       "      <td>7.77</td>\n",
       "    </tr>\n",
       "    <tr>\n",
       "      <th>forecast</th>\n",
       "      <td>6.9</td>\n",
       "      <td>7.20</td>\n",
       "      <td>7.5</td>\n",
       "      <td>7.7</td>\n",
       "      <td>7.90</td>\n",
       "      <td>8.10</td>\n",
       "      <td>NaN</td>\n",
       "    </tr>\n",
       "  </tbody>\n",
       "</table>\n",
       "</div>"
      ],
      "text/plain": [
       "          s_1   s_2  s_3  s_4   s_5   s_6   s_7\n",
       "current   6.0  6.45  6.8  7.1  7.36  7.56  7.77\n",
       "forecast  6.9  7.20  7.5  7.7  7.90  8.10   NaN"
      ]
     },
     "execution_count": 31,
     "metadata": {},
     "output_type": "execute_result"
    }
   ],
   "source": [
    "table.transpose().assign(forecast=table.transpose().apply(lambda s_t2: np.round(spotRateForecast(s_1=6.00, t_2=s_t2.index, s_2=s_t2), 1)).shift(-1)).transpose().add_prefix('s_')"
   ]
  },
  {
   "cell_type": "code",
   "execution_count": 32,
   "metadata": {
    "collapsed": true,
    "jupyter": {
     "outputs_hidden": true,
     "source_hidden": true
    }
   },
   "outputs": [
    {
     "data": {
      "text/plain": [
       "58"
      ]
     },
     "execution_count": 32,
     "metadata": {},
     "output_type": "execute_result"
    }
   ],
   "source": [
    "del table; gc.collect()"
   ]
  },
  {
   "cell_type": "markdown",
   "metadata": {},
   "source": [
    "Discount Factors (between two future periods) in terms of Forward Rate"
   ]
  },
  {
   "cell_type": "code",
   "execution_count": 33,
   "metadata": {},
   "outputs": [],
   "source": [
    "def discountFactor_t1_t2(t_1, s_1, t_2, s_2):\n",
    "    \"\"\"\n",
    "    t_1: starting period\n",
    "    s_1: spot rate at period t_1\n",
    "    t_2: end period\n",
    "    s_2: spot rate at period t_2\n",
    "    d_t1_t2: discount factor between two future periods in terms of forward rate f_t1_t2\n",
    "    assert t_1 < t_2\n",
    "    \"\"\"\n",
    "    d_t1_t2 = (1 / (1 + impliedForwardRate_a(t_1=t_1, s_1=s_1, t_2=t_2, s_2=s_2))) ** (t_2 - t_1)\n",
    "    return d_t1_t2"
   ]
  },
  {
   "cell_type": "markdown",
   "metadata": {},
   "source": [
    "Short Rates"
   ]
  },
  {
   "cell_type": "markdown",
   "metadata": {},
   "source": [
    "Invariance Theorem"
   ]
  },
  {
   "cell_type": "markdown",
   "metadata": {},
   "source": [
    "Assuming that interest varies under expectations dynamics. Under annual compound, the total amount of money invested in the interest rate market for n years will increase by (1 + s_n)^n (as long as all the money is invested), independent of the investment and reinvestment strategies."
   ]
  },
  {
   "cell_type": "markdown",
   "metadata": {},
   "source": [
    "### 4.6 Running Present Value"
   ]
  },
  {
   "cell_type": "code",
   "execution_count": 34,
   "metadata": {},
   "outputs": [],
   "source": [
    "def runningPresentValue(cf_list, df_list):\n",
    "    \"\"\"\n",
    "    cf_list: cashflow in list\n",
    "    df_list: discount factor (computed from term structure in table 4.2)\n",
    "    pv_list: running present value\n",
    "    assert len(cf_list) == len(df_list)\n",
    "    \"\"\"\n",
    "    pv_list = []\n",
    "    for k in range(len(cf_list))[::-1]:\n",
    "        try:\n",
    "            pv_k = cf_list[k] + df_list[k] * cf_list[k+1]\n",
    "        except IndexError:\n",
    "            pv_k = cf_list[k]\n",
    "        pv_k = np.round(pv_k, 2)\n",
    "        pv_list.append(pv_k)\n",
    "    \n",
    "    return pv_list[::-1]"
   ]
  },
  {
   "cell_type": "markdown",
   "metadata": {},
   "source": [
    "e.g. 4.7: general computation of running present value"
   ]
  },
  {
   "cell_type": "code",
   "execution_count": 35,
   "metadata": {},
   "outputs": [],
   "source": [
    "cf_list = [20, 25, 30, 35, 40, 30, 20, 10]\n",
    "df_list = [0.943, 0.935, 0.93, 0.926, 0.923, 0.921, 0.917, np.nan]"
   ]
  },
  {
   "cell_type": "code",
   "execution_count": 36,
   "metadata": {},
   "outputs": [
    {
     "data": {
      "text/html": [
       "<div>\n",
       "<style scoped>\n",
       "    .dataframe tbody tr th:only-of-type {\n",
       "        vertical-align: middle;\n",
       "    }\n",
       "\n",
       "    .dataframe tbody tr th {\n",
       "        vertical-align: top;\n",
       "    }\n",
       "\n",
       "    .dataframe thead th {\n",
       "        text-align: right;\n",
       "    }\n",
       "</style>\n",
       "<table border=\"1\" class=\"dataframe\">\n",
       "  <thead>\n",
       "    <tr style=\"text-align: right;\">\n",
       "      <th></th>\n",
       "      <th>Year: 0</th>\n",
       "      <th>Year: 1</th>\n",
       "      <th>Year: 2</th>\n",
       "      <th>Year: 3</th>\n",
       "      <th>Year: 4</th>\n",
       "      <th>Year: 5</th>\n",
       "      <th>Year: 6</th>\n",
       "      <th>Year: 7</th>\n",
       "    </tr>\n",
       "  </thead>\n",
       "  <tbody>\n",
       "    <tr>\n",
       "      <th>Cash Flow</th>\n",
       "      <td>20.000</td>\n",
       "      <td>25.000</td>\n",
       "      <td>30.00</td>\n",
       "      <td>35.000</td>\n",
       "      <td>40.000</td>\n",
       "      <td>30.000</td>\n",
       "      <td>20.000</td>\n",
       "      <td>10.0</td>\n",
       "    </tr>\n",
       "    <tr>\n",
       "      <th>Discount Factors</th>\n",
       "      <td>0.943</td>\n",
       "      <td>0.935</td>\n",
       "      <td>0.93</td>\n",
       "      <td>0.926</td>\n",
       "      <td>0.923</td>\n",
       "      <td>0.921</td>\n",
       "      <td>0.917</td>\n",
       "      <td>NaN</td>\n",
       "    </tr>\n",
       "  </tbody>\n",
       "</table>\n",
       "</div>"
      ],
      "text/plain": [
       "                  Year: 0  Year: 1  Year: 2  Year: 3  Year: 4  Year: 5  \\\n",
       "Cash Flow          20.000   25.000    30.00   35.000   40.000   30.000   \n",
       "Discount Factors    0.943    0.935     0.93    0.926    0.923    0.921   \n",
       "\n",
       "                  Year: 6  Year: 7  \n",
       "Cash Flow          20.000     10.0  \n",
       "Discount Factors    0.917      NaN  "
      ]
     },
     "execution_count": 36,
     "metadata": {},
     "output_type": "execute_result"
    }
   ],
   "source": [
    "pd.DataFrame({'Cash Flow': cf_list, 'Discount Factors': df_list}).transpose().add_prefix('Year: ')"
   ]
  },
  {
   "cell_type": "code",
   "execution_count": 37,
   "metadata": {},
   "outputs": [
    {
     "data": {
      "text/plain": [
       "[43.58, 53.05, 62.55, 72.04, 67.69, 48.42, 29.17, 10]"
      ]
     },
     "execution_count": 37,
     "metadata": {},
     "output_type": "execute_result"
    }
   ],
   "source": [
    "runningPresentValue(cf_list, df_list)"
   ]
  },
  {
   "cell_type": "markdown",
   "metadata": {},
   "source": [
    "### 4.7 Floating-Rate Bonds"
   ]
  },
  {
   "cell_type": "markdown",
   "metadata": {},
   "source": [
    "Floating-Rate Bonds have fixed face value and maturity, but varying (updating / resetting) coupon payment based on the latest short-term interest. Thus, the exact value of future coupon payments is uncertain until the reset: seemingly difficult to assess the value of this bond."
   ]
  },
  {
   "cell_type": "markdown",
   "metadata": {},
   "source": [
    "Theorem 4.1: The value of floating-rate bonds is equal to their par value at the time of repricing."
   ]
  },
  {
   "cell_type": "markdown",
   "metadata": {},
   "source": [
    "Proof: Running Present Value."
   ]
  },
  {
   "cell_type": "markdown",
   "metadata": {},
   "source": [
    "### 4.8 Duration"
   ]
  },
  {
   "cell_type": "markdown",
   "metadata": {},
   "source": [
    "Fisher-Weil Duration: duration as a weighted average of the present values at the time of cash flow."
   ]
  },
  {
   "cell_type": "markdown",
   "metadata": {},
   "source": [
    "(assuming cash flow (x_t0, x_t1, x_t2, ..., x_tn) and spot rate curve (s_t, t_0 <= t <= t_n) is given, under continuous compound)"
   ]
  },
  {
   "cell_type": "code",
   "execution_count": 38,
   "metadata": {},
   "outputs": [
    {
     "data": {
      "text/plain": [
       "2.718281828459045"
      ]
     },
     "execution_count": 38,
     "metadata": {},
     "output_type": "execute_result"
    }
   ],
   "source": [
    "math.e"
   ]
  },
  {
   "cell_type": "code",
   "execution_count": 39,
   "metadata": {},
   "outputs": [],
   "source": [
    "def fisherWeilDuration(cf_list, spot_rate_curve_list):\n",
    "    \"\"\"\n",
    "    cf_list: cashflow in list\n",
    "    spot_rate_curve_list: spot rates (corresponding to periods of cf_list) in list\n",
    "    D_FW: Fisher-Weil Duration\n",
    "    \"\"\"\n",
    "    PV = 0\n",
    "    n = len(cf_list)\n",
    "    for i in range(n):\n",
    "        PV += cf_list[i] * (math.e ** (-1 * spot_rate_curve_list[i] * i))\n",
    "    \n",
    "    D_FW = 0\n",
    "    for i in range(n):\n",
    "        D_FW += i * cf_list[i] * (math.e ** (-1 * spot_rate_curve_list[i] * i))\n",
    "    D_FW *= 1 / PV\n",
    "    \n",
    "    return D_FW"
   ]
  },
  {
   "cell_type": "markdown",
   "metadata": {},
   "source": [
    "Quasi-Modified Duration: relative price sensitivity of a parallel shift of the spot rate curve (under discretely defined periods)"
   ]
  },
  {
   "cell_type": "code",
   "execution_count": 40,
   "metadata": {},
   "outputs": [],
   "source": [
    "def quasiModifiedDuration(m, cf_list, spot_rate_curve_list):\n",
    "    \"\"\"\n",
    "    cf_list: cashflow in list\n",
    "    spot_rate_curve_list: spot rates (corresponding to periods of cf_list) in list\n",
    "    D_Q: Quasi-modified Duration\n",
    "    \"\"\"\n",
    "    PV = 0\n",
    "    n = len(cf_list)\n",
    "    for i in range(n):\n",
    "        PV += cf_list[i] * (math.e ** (-1 * spot_rate_curve_list[i] * i))\n",
    "    \n",
    "    D_Q = 0\n",
    "    for k in range(n):\n",
    "        k += 1\n",
    "        D_Q += (k / m) * cf_list[k - 1] * ((1 + (spot_rate_curve_list[k - 1] / m)) ** (-1 * (k + 1)))\n",
    "    D_Q *= (1 / PV)\n",
    "    \n",
    "    return D_Q"
   ]
  },
  {
   "cell_type": "markdown",
   "metadata": {},
   "source": [
    "## Chapter 5 Applied Interest Rate Analysis"
   ]
  },
  {
   "cell_type": "markdown",
   "metadata": {},
   "source": [
    "### 5.1 Capital Budgeting"
   ]
  },
  {
   "cell_type": "markdown",
   "metadata": {},
   "source": [
    "(1) Independent Projects: Zero-One Programming Problem"
   ]
  },
  {
   "cell_type": "raw",
   "metadata": {},
   "source": [
    "m: number of projects\n",
    "C: total available capital"
   ]
  },
  {
   "cell_type": "markdown",
   "metadata": {},
   "source": [
    "in the i-th project:"
   ]
  },
  {
   "cell_type": "raw",
   "metadata": {},
   "source": [
    "b_i: total benefit (e.g. NPV)\n",
    "c_i: initial cost\n",
    "x_i: zero-one variable (1 if selected, 0 else)"
   ]
  },
  {
   "cell_type": "code",
   "execution_count": 66,
   "metadata": {
    "jupyter": {
     "source_hidden": true
    }
   },
   "outputs": [
    {
     "data": {
      "text/latex": [
       "$\\max \\sum_{i=1}^{m}b_{i}x_{i}$"
      ],
      "text/plain": [
       "<IPython.core.display.Latex object>"
      ]
     },
     "metadata": {},
     "output_type": "display_data"
    },
    {
     "data": {
      "text/latex": [
       "$s.t. \\sum_{i=1}^{m}c_{i}x_{i}\\leq C$"
      ],
      "text/plain": [
       "<IPython.core.display.Latex object>"
      ]
     },
     "metadata": {},
     "output_type": "display_data"
    }
   ],
   "source": [
    "_obj = '\\max \\sum_{i=1}^{m}b_{i}x_{i}'\n",
    "_cst = 's.t. \\sum_{i=1}^{m}c_{i}x_{i}\\leq C'\n",
    "display(Latex(f'${_obj}$'))\n",
    "display(Latex(f'${_cst}$'))"
   ]
  },
  {
   "cell_type": "markdown",
   "metadata": {},
   "source": [
    "e.g. (5.1)"
   ]
  },
  {
   "cell_type": "code",
   "execution_count": 59,
   "metadata": {},
   "outputs": [],
   "source": [
    "projects = range(1,8)\n",
    "C_list = [100, 20, 150, 50, 50, 150, 150]\n",
    "B_list = [300, 50, 350, 110, 100, 250, 200]"
   ]
  },
  {
   "cell_type": "code",
   "execution_count": 60,
   "metadata": {},
   "outputs": [],
   "source": [
    "table = pd.DataFrame({'Project': projects, 'Cost ($1,000)': C_list, 'Benefit ($1,000)': B_list}).set_index('Project')"
   ]
  },
  {
   "cell_type": "code",
   "execution_count": 64,
   "metadata": {},
   "outputs": [
    {
     "data": {
      "text/html": [
       "<div>\n",
       "<style scoped>\n",
       "    .dataframe tbody tr th:only-of-type {\n",
       "        vertical-align: middle;\n",
       "    }\n",
       "\n",
       "    .dataframe tbody tr th {\n",
       "        vertical-align: top;\n",
       "    }\n",
       "\n",
       "    .dataframe thead th {\n",
       "        text-align: right;\n",
       "    }\n",
       "</style>\n",
       "<table border=\"1\" class=\"dataframe\">\n",
       "  <thead>\n",
       "    <tr style=\"text-align: right;\">\n",
       "      <th></th>\n",
       "      <th>Cost ($1,000)</th>\n",
       "      <th>Benefit ($1,000)</th>\n",
       "      <th>NPV</th>\n",
       "    </tr>\n",
       "    <tr>\n",
       "      <th>Project</th>\n",
       "      <th></th>\n",
       "      <th></th>\n",
       "      <th></th>\n",
       "    </tr>\n",
       "  </thead>\n",
       "  <tbody>\n",
       "    <tr>\n",
       "      <th>1</th>\n",
       "      <td>100</td>\n",
       "      <td>300</td>\n",
       "      <td>200</td>\n",
       "    </tr>\n",
       "    <tr>\n",
       "      <th>2</th>\n",
       "      <td>20</td>\n",
       "      <td>50</td>\n",
       "      <td>30</td>\n",
       "    </tr>\n",
       "    <tr>\n",
       "      <th>3</th>\n",
       "      <td>150</td>\n",
       "      <td>350</td>\n",
       "      <td>200</td>\n",
       "    </tr>\n",
       "    <tr>\n",
       "      <th>4</th>\n",
       "      <td>50</td>\n",
       "      <td>110</td>\n",
       "      <td>60</td>\n",
       "    </tr>\n",
       "    <tr>\n",
       "      <th>5</th>\n",
       "      <td>50</td>\n",
       "      <td>100</td>\n",
       "      <td>50</td>\n",
       "    </tr>\n",
       "    <tr>\n",
       "      <th>6</th>\n",
       "      <td>150</td>\n",
       "      <td>250</td>\n",
       "      <td>100</td>\n",
       "    </tr>\n",
       "    <tr>\n",
       "      <th>7</th>\n",
       "      <td>150</td>\n",
       "      <td>200</td>\n",
       "      <td>50</td>\n",
       "    </tr>\n",
       "  </tbody>\n",
       "</table>\n",
       "</div>"
      ],
      "text/plain": [
       "         Cost ($1,000)  Benefit ($1,000)  NPV\n",
       "Project                                      \n",
       "1                  100               300  200\n",
       "2                   20                50   30\n",
       "3                  150               350  200\n",
       "4                   50               110   60\n",
       "5                   50               100   50\n",
       "6                  150               250  100\n",
       "7                  150               200   50"
      ]
     },
     "execution_count": 64,
     "metadata": {},
     "output_type": "execute_result"
    }
   ],
   "source": [
    "table.assign(\n",
    "    NPV = table['Benefit ($1,000)'] - table['Cost ($1,000)'],\n",
    ")"
   ]
  },
  {
   "cell_type": "code",
   "execution_count": 70,
   "metadata": {
    "jupyter": {
     "source_hidden": true
    }
   },
   "outputs": [
    {
     "data": {
      "text/latex": [
       "$\\max 200x_{1}+30x_{2}+200x_{3}+60x_{4}+50x_{5}+100x_{6}+50x_{7}$"
      ],
      "text/plain": [
       "<IPython.core.display.Latex object>"
      ]
     },
     "metadata": {},
     "output_type": "display_data"
    },
    {
     "data": {
      "text/latex": [
       "$s.t. 100x_{1}+20x_{2}+150x_{3}+50x_{4}+50x_{5}+150x_{6}+150x_{7} \\leq 500$"
      ],
      "text/plain": [
       "<IPython.core.display.Latex object>"
      ]
     },
     "metadata": {},
     "output_type": "display_data"
    }
   ],
   "source": [
    "_obj = '\\max 200x_{1}+30x_{2}+200x_{3}+60x_{4}+50x_{5}+100x_{6}+50x_{7}'\n",
    "_cst = 's.t. 100x_{1}+20x_{2}+150x_{3}+50x_{4}+50x_{5}+150x_{6}+150x_{7} \\leq 500'\n",
    "display(Latex(f'${_obj}$'))\n",
    "display(Latex(f'${_cst}$'))"
   ]
  },
  {
   "cell_type": "markdown",
   "metadata": {},
   "source": [
    "(2) Interdependent Projects: Zero-One Programming Problem"
   ]
  },
  {
   "cell_type": "raw",
   "metadata": {},
   "source": [
    "m  : number of objectives\n",
    "n_i: number of possible projectss in the i-th objective\n",
    "(only 1 project is selected from each objectives)"
   ]
  },
  {
   "cell_type": "markdown",
   "metadata": {},
   "source": [
    "in the the j-th project, of the i-th objective:"
   ]
  },
  {
   "cell_type": "raw",
   "metadata": {},
   "source": [
    "x_ij: zero-one variable\n",
    "b_ij: total benefit\n",
    "c_ij: initial cost"
   ]
  },
  {
   "cell_type": "code",
   "execution_count": 72,
   "metadata": {
    "jupyter": {
     "source_hidden": true
    }
   },
   "outputs": [
    {
     "data": {
      "text/latex": [
       "$\\max \\sum_{i=1}^{m}\\sum_{j=1}^{n_{i}}b_{ij}x_{ij}$"
      ],
      "text/plain": [
       "<IPython.core.display.Latex object>"
      ]
     },
     "metadata": {},
     "output_type": "display_data"
    },
    {
     "data": {
      "text/latex": [
       "$s.t. \\sum_{i=1}^{m}\\sum_{j=1}^{n_{i}}c_{ij}x_{ij}\\leq C$"
      ],
      "text/plain": [
       "<IPython.core.display.Latex object>"
      ]
     },
     "metadata": {},
     "output_type": "display_data"
    },
    {
     "data": {
      "text/latex": [
       "$\\sum_{j=1}^{n_{i}}x_{ij}\\leq 1, (i=1,2,...,m)$"
      ],
      "text/plain": [
       "<IPython.core.display.Latex object>"
      ]
     },
     "metadata": {},
     "output_type": "display_data"
    }
   ],
   "source": [
    "_obj = '\\max \\sum_{i=1}^{m}\\sum_{j=1}^{n_{i}}b_{ij}x_{ij}'\n",
    "_cst_1 = 's.t. \\sum_{i=1}^{m}\\sum_{j=1}^{n_{i}}c_{ij}x_{ij}\\leq C'\n",
    "_cst_2 = '\\sum_{j=1}^{n_{i}}x_{ij}\\leq 1, (i=1,2,...,m)'\n",
    "display(Latex(f'${_obj}$'))\n",
    "display(Latex(f'${_cst_1}$'))\n",
    "display(Latex(f'${_cst_2}$'))"
   ]
  },
  {
   "cell_type": "markdown",
   "metadata": {},
   "source": [
    "The exclusivity of an individual project is represented by the second constraint. The constraint states that the sum of the variables x_ij for j must not exceed 1. And, since the variables are all 0 or 1, this means that for any i, there is only one x_ij that can be 1 at most. In other words, only one project at most will be selected for goal i."
   ]
  },
  {
   "cell_type": "markdown",
   "metadata": {},
   "source": [
    "### 5.2 Optimal Portfolios"
   ]
  },
  {
   "cell_type": "markdown",
   "metadata": {},
   "source": [
    "The Cash Matching Problem"
   ]
  },
  {
   "cell_type": "raw",
   "metadata": {},
   "source": [
    "\"1 period\": 6 months\n",
    "m         : number of bonds"
   ]
  },
  {
   "cell_type": "raw",
   "metadata": {},
   "source": [
    "y   = (y_1,  y_2,  ..., y_n)  : liability (starts from 1 period from now)\n",
    "c_j = (c_1j, c_2j, ..., c_nj) : cash flow of j-th bond"
   ]
  },
  {
   "cell_type": "raw",
   "metadata": {},
   "source": [
    "p_j: price of j-th bond\n",
    "x_j: inventory of j-th bond in portfolio"
   ]
  },
  {
   "cell_type": "code",
   "execution_count": 74,
   "metadata": {
    "jupyter": {
     "source_hidden": true
    }
   },
   "outputs": [
    {
     "data": {
      "text/latex": [
       "$\\min \\sum_{j=1}^{m}p_{j}x_{j}$"
      ],
      "text/plain": [
       "<IPython.core.display.Latex object>"
      ]
     },
     "metadata": {},
     "output_type": "display_data"
    },
    {
     "data": {
      "text/latex": [
       "$s.t. \\sum_{j=1}^{m}c_{ij}x_{j} \\geq y_{i}, (i=1,2,...,n)$"
      ],
      "text/plain": [
       "<IPython.core.display.Latex object>"
      ]
     },
     "metadata": {},
     "output_type": "display_data"
    },
    {
     "data": {
      "text/latex": [
       "$x_{j} \\geq 0, (j=1,2,...,m)$"
      ],
      "text/plain": [
       "<IPython.core.display.Latex object>"
      ]
     },
     "metadata": {},
     "output_type": "display_data"
    }
   ],
   "source": [
    "_obj = '\\min \\sum_{j=1}^{m}p_{j}x_{j}'\n",
    "_cst_1 = 's.t. \\sum_{j=1}^{m}c_{ij}x_{j} \\geq y_{i}, (i=1,2,...,n)'\n",
    "_cst_2 = 'x_{j} \\geq 0, (j=1,2,...,m)'\n",
    "display(Latex(f'${_obj}$'))\n",
    "display(Latex(f'${_cst_1}$'))\n",
    "display(Latex(f'${_cst_2}$'))"
   ]
  },
  {
   "cell_type": "markdown",
   "metadata": {},
   "source": [
    "The objective function to be minimized is the total cost of the portfolio, which is equal to the sum of the price of the bond multiplied by the amount purchased.\n",
    "\n",
    "The main constraint, which is the cash matching constraint, indicates that, the total amount of cash to be generated in the i-th period with m bonds must be greater than the i-th cash matching constraint. Then, the last constraint equation excludes the possibility of short selling."
   ]
  },
  {
   "cell_type": "markdown",
   "metadata": {},
   "source": [
    "### 5.3 Dynamic Cash Flow Processes"
   ]
  },
  {
   "cell_type": "markdown",
   "metadata": {},
   "source": [
    "(Portfolio of financial instruments must be systematically and appropriately modified over time. Such  selection is dealt with dynamic programming.)"
   ]
  },
  {
   "cell_type": "markdown",
   "metadata": {},
   "source": [
    "Representation of Dynamic Choice, Cash Flows in Graphs"
   ]
  },
  {
   "cell_type": "markdown",
   "metadata": {},
   "source": [
    "Dynamic Models:\n",
    "\n",
    "e,g, Graph (Binomial Tree, Binomial Lattice):\n",
    "\n",
    "assigning cash flows to different branches of the graph allows evaluation of management alternatives. The outcome would be defined as \"final reward\" (final sale price) or \"salvage value\"."
   ]
  },
  {
   "cell_type": "markdown",
   "metadata": {},
   "source": [
    "### 5.4 Optimal Management"
   ]
  },
  {
   "cell_type": "markdown",
   "metadata": {},
   "source": [
    "Each path through the tree determines a particular cash flow sequence, allowing one to determine the optimal management plan."
   ]
  },
  {
   "cell_type": "markdown",
   "metadata": {},
   "source": [
    "(1) Comparison of all possible paths via NPV: (curse of dimensionality)"
   ]
  },
  {
   "cell_type": "markdown",
   "metadata": {},
   "source": [
    "(2) Running Dynamic Programming"
   ]
  },
  {
   "cell_type": "raw",
   "metadata": {},
   "source": [
    "(k, i): i-th node at k-th period\n",
    "V_ki  : running value or V-value at (k, i)"
   ]
  },
  {
   "cell_type": "raw",
   "metadata": {},
   "source": [
    "d_k = 1 / (1 + r_k) : discount rate\n",
    "r_k = f_k_k+1       : short term interest"
   ]
  },
  {
   "cell_type": "markdown",
   "metadata": {},
   "source": [
    "Then, the running value at the final node would be defined as the final value of the specific investment process."
   ]
  },
  {
   "cell_type": "markdown",
   "metadata": {},
   "source": [
    "Then, dynamic programming deals with nodes at the (n-1)-th period, assuming that an investment decision is already made to reach that specific node (meaning that the cash flow (c_0, c_1, ..., c_n-2) is predetermined).\n",
    "Thus, the only remaining decision would be to find out which one of the arcs lead from that node (n-1, i) to the final node at the n-th period.\n",
    "And, since it is hypothetically assumed that past decisions are predetermined, the optimal arc would be the one that maximizes the running present value at the (n-1)-th period. In other words, observe:"
   ]
  },
  {
   "cell_type": "code",
   "execution_count": 76,
   "metadata": {},
   "outputs": [
    {
     "data": {
      "text/latex": [
       "$C_{n-1}^{a}+d_{n-1}V_{n,a}$"
      ],
      "text/plain": [
       "<IPython.core.display.Latex object>"
      ]
     },
     "metadata": {},
     "output_type": "display_data"
    }
   ],
   "source": [
    "_ = 'C_{n-1}^{a}+d_{n-1}V_{n,a}'\n",
    "display(Latex(f'${_}$'))"
   ]
  },
  {
   "cell_type": "markdown",
   "metadata": {},
   "source": [
    "where"
   ]
  },
  {
   "cell_type": "raw",
   "metadata": {},
   "source": [
    "a: the node to be reached at the n-th period"
   ]
  },
  {
   "cell_type": "markdown",
   "metadata": {},
   "source": [
    "This process would be repeated for all nodes, and the maximum would be set as V_(n-1, i), and can be evaluated as the best running present value that can be obtained at node (n-1, i). Then, the same process will be executed for the (n-2)-th period, and until the 0-th period."
   ]
  },
  {
   "cell_type": "markdown",
   "metadata": {},
   "source": [
    "Therefore the recursive process is specified as follows:"
   ]
  },
  {
   "cell_type": "code",
   "execution_count": 10,
   "metadata": {
    "jupyter": {
     "source_hidden": true
    }
   },
   "outputs": [
    {
     "data": {
      "text/latex": [
       "$V_{ki} = \\max_{a} ( c_{ki}^{a}+d_{k}V_{k+1,a} )$"
      ],
      "text/plain": [
       "<IPython.core.display.Latex object>"
      ]
     },
     "metadata": {},
     "output_type": "display_data"
    }
   ],
   "source": [
    "_ = 'V_{ki} = \\max_{a} ( c_{ki}^{a}+d_{k}V_{k+1,a} )'\n",
    "display(Latex(f'${_}$'))"
   ]
  },
  {
   "cell_type": "markdown",
   "metadata": {},
   "source": [
    "where"
   ]
  },
  {
   "cell_type": "raw",
   "metadata": {},
   "source": [
    "c_ki^a: generated cashflow when presuming from node (k, i) to (k+1, a)"
   ]
  },
  {
   "cell_type": "markdown",
   "metadata": {},
   "source": [
    "Variations of Graphs: Continuous Lattice"
   ]
  },
  {
   "cell_type": "markdown",
   "metadata": {},
   "source": [
    "### 5.5 The Harmony Theorem"
   ]
  },
  {
   "cell_type": "markdown",
   "metadata": {},
   "source": [
    "The harmony theorem justifies venture operations to maximize the present value of the cash flow stream being generated:\n",
    "\n",
    "(1) A current owner of the venture would want to operate its venture in a way that maximizes the present value of its cash flow stream.\n",
    "\n",
    "(2) Potential owners, who would pay the full value of the expected stake on the venture, wwould operate in the same way, to maximize the return on their investment."
   ]
  },
  {
   "cell_type": "markdown",
   "metadata": {},
   "source": [
    "### 5.6 Valuation of a Firm"
   ]
  },
  {
   "cell_type": "markdown",
   "metadata": {},
   "source": [
    "Dividend Discount Models"
   ]
  },
  {
   "cell_type": "markdown",
   "metadata": {},
   "source": [
    "(1) Constant-Growth Dividend Model: assumes that dividend grows at a constant ratio of g"
   ]
  },
  {
   "cell_type": "code",
   "execution_count": 16,
   "metadata": {
    "jupyter": {
     "source_hidden": true
    }
   },
   "outputs": [
    {
     "data": {
      "text/latex": [
       "$V_0 = D_{1}\\sum_{k=1}^{\\infty } {(1+g)^{k-1}} / {(1+r)^{k}}$"
      ],
      "text/plain": [
       "<IPython.core.display.Latex object>"
      ]
     },
     "metadata": {},
     "output_type": "display_data"
    }
   ],
   "source": [
    "_ = 'V_0 = D_{1}\\sum_{k=1}^{\\infty } {(1+g)^{k-1}} / {(1+r)^{k}}'\n",
    "display(Latex(f'${_}$'))"
   ]
  },
  {
   "cell_type": "markdown",
   "metadata": {},
   "source": [
    "When g < r:"
   ]
  },
  {
   "cell_type": "code",
   "execution_count": 24,
   "metadata": {},
   "outputs": [],
   "source": [
    "def gordonFormula(D_1, r, g):\n",
    "    \"\"\"\n",
    "    D_1: dividend, one period later\n",
    "    r: interest (or discount rate)\n",
    "    g: dividend growth rate\n",
    "    \"\"\"\n",
    "    V_0 = D_1 / (r - g)\n",
    "    return V_0"
   ]
  },
  {
   "cell_type": "code",
   "execution_count": 18,
   "metadata": {},
   "outputs": [],
   "source": [
    "def discountGrowthFormula(D_0, r, g):\n",
    "    \"\"\"\n",
    "    D_0: dividend now\n",
    "    r: interest (or discount rate)\n",
    "    g: dividend growth rate\n",
    "    \"\"\"\n",
    "    V_0 = ((1 + g) * D_0) / (r - g)\n",
    "    return V_0"
   ]
  },
  {
   "cell_type": "markdown",
   "metadata": {},
   "source": [
    "e.g. 5.6: value of firm XX, after $1,370,000 of divident payment, with predicted growth rate of 10% (and discount rate of 15%)"
   ]
  },
  {
   "cell_type": "code",
   "execution_count": 28,
   "metadata": {},
   "outputs": [
    {
     "data": {
      "text/plain": [
       "30140000.00000001"
      ]
     },
     "execution_count": 28,
     "metadata": {},
     "output_type": "execute_result"
    }
   ],
   "source": [
    "discountGrowthFormula(D_0=1_370_000, g=0.10, r=0.15) "
   ]
  },
  {
   "cell_type": "markdown",
   "metadata": {},
   "source": [
    "Free Cash Flow: free cash while maintanance of optimal activity and investment strategies. In its ideal form, this approach requires that the present value of free cash flow be maximized in all management decisions, especially those related to investments that generate revenue growth."
   ]
  }
 ],
 "metadata": {
  "kernelspec": {
   "display_name": "Python 3",
   "language": "python",
   "name": "python3"
  },
  "language_info": {
   "codemirror_mode": {
    "name": "ipython",
    "version": 3
   },
   "file_extension": ".py",
   "mimetype": "text/x-python",
   "name": "python",
   "nbconvert_exporter": "python",
   "pygments_lexer": "ipython3",
   "version": "3.7.6"
  }
 },
 "nbformat": 4,
 "nbformat_minor": 4
}
